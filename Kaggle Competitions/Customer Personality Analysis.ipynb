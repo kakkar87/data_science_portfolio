{
 "cells": [
  {
   "cell_type": "markdown",
   "metadata": {},
   "source": [
    "## Problem Statement\n",
    "\n",
    "Customer Personality Analysis is a detailed analysis of a company’s ideal customers. It helps a business to better understand its customers and makes it easier for them to modify products according to the specific needs, behaviors and concerns of different types of customers.\n",
    "\n",
    "Customer personality analysis helps a business to modify its product based on its target customers from different types of customer segments. For example, instead of spending money to market a new product to every customer in the company’s database, a company can analyze which customer segment is most likely to buy the product and then market the product only on that particular segment."
   ]
  },
  {
   "cell_type": "markdown",
   "metadata": {},
   "source": [
    "## Content\n",
    "### Attributes\n",
    "\n",
    "<b>People</b>\n",
    "\n",
    "ID: Customer's unique identifier <br>\n",
    "Year_Birth: Customer's birth year <br>\n",
    "Education: Customer's education level <br>\n",
    "Marital_Status: Customer's marital status <br>\n",
    "Income: Customer's yearly household income <br>\n",
    "Kidhome: Number of children in customer's household <br>\n",
    "Teenhome: Number of teenagers in customer's household <br>\n",
    "Dt_Customer: Date of customer's enrollment with the company <br>\n",
    "Recency: Number of days since customer's last purchase <br>\n",
    "Complain: 1 if customer complained in the last 2 years, 0 otherwise <br> \n",
    "\n",
    "<b>Products</b>\n",
    "\n",
    "MntWines: Amount spent on wine in last 2 years<br>\n",
    "MntFruits: Amount spent on fruits in last 2 years<br>\n",
    "MntMeatProducts: Amount spent on meat in last 2 years<br>\n",
    "MntFishProducts: Amount spent on fish in last 2 years<br>\n",
    "MntSweetProducts: Amount spent on sweets in last 2 years<br>\n",
    "MntGoldProds: Amount spent on gold in last 2 years<br>\n",
    "\n",
    "<b>Promotion</b>\n",
    "\n",
    "NumDealsPurchases: Number of purchases made with a discount<br>\n",
    "AcceptedCmp1: 1 if customer accepted the offer in the 1st campaign, 0 otherwise<br>\n",
    "AcceptedCmp2: 1 if customer accepted the offer in the 2nd campaign, 0 otherwise<br>\n",
    "AcceptedCmp3: 1 if customer accepted the offer in the 3rd campaign, 0 otherwise<br>\n",
    "AcceptedCmp4: 1 if customer accepted the offer in the 4th campaign, 0 otherwise<br>\n",
    "AcceptedCmp5: 1 if customer accepted the offer in the 5th campaign, 0 otherwise<br>\n",
    "Response: 1 if customer accepted the offer in the last campaign, 0 otherwise<br>\n",
    "\n",
    "<b>Place</b>\n",
    "\n",
    "NumWebPurchases: Number of purchases made through the company’s web site<br>\n",
    "NumCatalogPurchases: Number of purchases made using a catalogue<br>\n",
    "NumStorePurchases: Number of purchases made directly in stores<br>\n",
    "NumWebVisitsMonth: Number of visits to company’s web site in the last month<br>\n",
    "\n",
    "#### Target\n",
    "Need to perform clustering to summarize customer segments."
   ]
  },
  {
   "cell_type": "code",
   "execution_count": 169,
   "metadata": {},
   "outputs": [],
   "source": [
    "import pandas as pd\n",
    "import numpy as np\n",
    "import matplotlib.pyplot as plt\n",
    "import seaborn as sns\n",
    "\n",
    "import plotly.express as px\n",
    "from plotly.subplots import make_subplots\n",
    "import plotly.graph_objects as go\n",
    "\n",
    "import warnings\n",
    "warnings.filterwarnings('ignore')\n",
    "pd.set_option('display.max_columns', None)\n",
    "\n",
    "from sklearn.preprocessing import LabelEncoder\n",
    "from sklearn.preprocessing import StandardScaler\n",
    "from sklearn.preprocessing import OneHotEncoder\n",
    "\n",
    "from yellowbrick.cluster import KElbowVisualizer\n",
    "from sklearn.cluster import KMeans\n",
    "from sklearn.metrics import silhouette_score"
   ]
  },
  {
   "cell_type": "code",
   "execution_count": 191,
   "metadata": {},
   "outputs": [],
   "source": [
    "df = pd.read_csv(\"marketing_campaign.csv\", header=0, sep='\\t')"
   ]
  },
  {
   "cell_type": "code",
   "execution_count": 192,
   "metadata": {},
   "outputs": [
    {
     "data": {
      "text/html": [
       "<style  type=\"text/css\" >\n",
       "#T_d9da6_row10_col4{\n",
       "            background-color:  yellow;\n",
       "        }</style><table id=\"T_d9da6_\" ><thead>    <tr>        <th class=\"blank level0\" ></th>        <th class=\"col_heading level0 col0\" >ID</th>        <th class=\"col_heading level0 col1\" >Year_Birth</th>        <th class=\"col_heading level0 col2\" >Education</th>        <th class=\"col_heading level0 col3\" >Marital_Status</th>        <th class=\"col_heading level0 col4\" >Income</th>        <th class=\"col_heading level0 col5\" >Kidhome</th>        <th class=\"col_heading level0 col6\" >Teenhome</th>        <th class=\"col_heading level0 col7\" >Dt_Customer</th>        <th class=\"col_heading level0 col8\" >Recency</th>        <th class=\"col_heading level0 col9\" >MntWines</th>        <th class=\"col_heading level0 col10\" >MntFruits</th>        <th class=\"col_heading level0 col11\" >MntMeatProducts</th>        <th class=\"col_heading level0 col12\" >MntFishProducts</th>        <th class=\"col_heading level0 col13\" >MntSweetProducts</th>        <th class=\"col_heading level0 col14\" >MntGoldProds</th>        <th class=\"col_heading level0 col15\" >NumDealsPurchases</th>        <th class=\"col_heading level0 col16\" >NumWebPurchases</th>        <th class=\"col_heading level0 col17\" >NumCatalogPurchases</th>        <th class=\"col_heading level0 col18\" >NumStorePurchases</th>        <th class=\"col_heading level0 col19\" >NumWebVisitsMonth</th>        <th class=\"col_heading level0 col20\" >AcceptedCmp3</th>        <th class=\"col_heading level0 col21\" >AcceptedCmp4</th>        <th class=\"col_heading level0 col22\" >AcceptedCmp5</th>        <th class=\"col_heading level0 col23\" >AcceptedCmp1</th>        <th class=\"col_heading level0 col24\" >AcceptedCmp2</th>        <th class=\"col_heading level0 col25\" >Complain</th>        <th class=\"col_heading level0 col26\" >Z_CostContact</th>        <th class=\"col_heading level0 col27\" >Z_Revenue</th>        <th class=\"col_heading level0 col28\" >Response</th>    </tr></thead><tbody>\n",
       "                <tr>\n",
       "                        <th id=\"T_d9da6_level0_row0\" class=\"row_heading level0 row0\" >0</th>\n",
       "                        <td id=\"T_d9da6_row0_col0\" class=\"data row0 col0\" >5524</td>\n",
       "                        <td id=\"T_d9da6_row0_col1\" class=\"data row0 col1\" >1957</td>\n",
       "                        <td id=\"T_d9da6_row0_col2\" class=\"data row0 col2\" >Graduation</td>\n",
       "                        <td id=\"T_d9da6_row0_col3\" class=\"data row0 col3\" >Single</td>\n",
       "                        <td id=\"T_d9da6_row0_col4\" class=\"data row0 col4\" >58138.000000</td>\n",
       "                        <td id=\"T_d9da6_row0_col5\" class=\"data row0 col5\" >0</td>\n",
       "                        <td id=\"T_d9da6_row0_col6\" class=\"data row0 col6\" >0</td>\n",
       "                        <td id=\"T_d9da6_row0_col7\" class=\"data row0 col7\" >04-09-2012</td>\n",
       "                        <td id=\"T_d9da6_row0_col8\" class=\"data row0 col8\" >58</td>\n",
       "                        <td id=\"T_d9da6_row0_col9\" class=\"data row0 col9\" >635</td>\n",
       "                        <td id=\"T_d9da6_row0_col10\" class=\"data row0 col10\" >88</td>\n",
       "                        <td id=\"T_d9da6_row0_col11\" class=\"data row0 col11\" >546</td>\n",
       "                        <td id=\"T_d9da6_row0_col12\" class=\"data row0 col12\" >172</td>\n",
       "                        <td id=\"T_d9da6_row0_col13\" class=\"data row0 col13\" >88</td>\n",
       "                        <td id=\"T_d9da6_row0_col14\" class=\"data row0 col14\" >88</td>\n",
       "                        <td id=\"T_d9da6_row0_col15\" class=\"data row0 col15\" >3</td>\n",
       "                        <td id=\"T_d9da6_row0_col16\" class=\"data row0 col16\" >8</td>\n",
       "                        <td id=\"T_d9da6_row0_col17\" class=\"data row0 col17\" >10</td>\n",
       "                        <td id=\"T_d9da6_row0_col18\" class=\"data row0 col18\" >4</td>\n",
       "                        <td id=\"T_d9da6_row0_col19\" class=\"data row0 col19\" >7</td>\n",
       "                        <td id=\"T_d9da6_row0_col20\" class=\"data row0 col20\" >0</td>\n",
       "                        <td id=\"T_d9da6_row0_col21\" class=\"data row0 col21\" >0</td>\n",
       "                        <td id=\"T_d9da6_row0_col22\" class=\"data row0 col22\" >0</td>\n",
       "                        <td id=\"T_d9da6_row0_col23\" class=\"data row0 col23\" >0</td>\n",
       "                        <td id=\"T_d9da6_row0_col24\" class=\"data row0 col24\" >0</td>\n",
       "                        <td id=\"T_d9da6_row0_col25\" class=\"data row0 col25\" >0</td>\n",
       "                        <td id=\"T_d9da6_row0_col26\" class=\"data row0 col26\" >3</td>\n",
       "                        <td id=\"T_d9da6_row0_col27\" class=\"data row0 col27\" >11</td>\n",
       "                        <td id=\"T_d9da6_row0_col28\" class=\"data row0 col28\" >1</td>\n",
       "            </tr>\n",
       "            <tr>\n",
       "                        <th id=\"T_d9da6_level0_row1\" class=\"row_heading level0 row1\" >1</th>\n",
       "                        <td id=\"T_d9da6_row1_col0\" class=\"data row1 col0\" >2174</td>\n",
       "                        <td id=\"T_d9da6_row1_col1\" class=\"data row1 col1\" >1954</td>\n",
       "                        <td id=\"T_d9da6_row1_col2\" class=\"data row1 col2\" >Graduation</td>\n",
       "                        <td id=\"T_d9da6_row1_col3\" class=\"data row1 col3\" >Single</td>\n",
       "                        <td id=\"T_d9da6_row1_col4\" class=\"data row1 col4\" >46344.000000</td>\n",
       "                        <td id=\"T_d9da6_row1_col5\" class=\"data row1 col5\" >1</td>\n",
       "                        <td id=\"T_d9da6_row1_col6\" class=\"data row1 col6\" >1</td>\n",
       "                        <td id=\"T_d9da6_row1_col7\" class=\"data row1 col7\" >08-03-2014</td>\n",
       "                        <td id=\"T_d9da6_row1_col8\" class=\"data row1 col8\" >38</td>\n",
       "                        <td id=\"T_d9da6_row1_col9\" class=\"data row1 col9\" >11</td>\n",
       "                        <td id=\"T_d9da6_row1_col10\" class=\"data row1 col10\" >1</td>\n",
       "                        <td id=\"T_d9da6_row1_col11\" class=\"data row1 col11\" >6</td>\n",
       "                        <td id=\"T_d9da6_row1_col12\" class=\"data row1 col12\" >2</td>\n",
       "                        <td id=\"T_d9da6_row1_col13\" class=\"data row1 col13\" >1</td>\n",
       "                        <td id=\"T_d9da6_row1_col14\" class=\"data row1 col14\" >6</td>\n",
       "                        <td id=\"T_d9da6_row1_col15\" class=\"data row1 col15\" >2</td>\n",
       "                        <td id=\"T_d9da6_row1_col16\" class=\"data row1 col16\" >1</td>\n",
       "                        <td id=\"T_d9da6_row1_col17\" class=\"data row1 col17\" >1</td>\n",
       "                        <td id=\"T_d9da6_row1_col18\" class=\"data row1 col18\" >2</td>\n",
       "                        <td id=\"T_d9da6_row1_col19\" class=\"data row1 col19\" >5</td>\n",
       "                        <td id=\"T_d9da6_row1_col20\" class=\"data row1 col20\" >0</td>\n",
       "                        <td id=\"T_d9da6_row1_col21\" class=\"data row1 col21\" >0</td>\n",
       "                        <td id=\"T_d9da6_row1_col22\" class=\"data row1 col22\" >0</td>\n",
       "                        <td id=\"T_d9da6_row1_col23\" class=\"data row1 col23\" >0</td>\n",
       "                        <td id=\"T_d9da6_row1_col24\" class=\"data row1 col24\" >0</td>\n",
       "                        <td id=\"T_d9da6_row1_col25\" class=\"data row1 col25\" >0</td>\n",
       "                        <td id=\"T_d9da6_row1_col26\" class=\"data row1 col26\" >3</td>\n",
       "                        <td id=\"T_d9da6_row1_col27\" class=\"data row1 col27\" >11</td>\n",
       "                        <td id=\"T_d9da6_row1_col28\" class=\"data row1 col28\" >0</td>\n",
       "            </tr>\n",
       "            <tr>\n",
       "                        <th id=\"T_d9da6_level0_row2\" class=\"row_heading level0 row2\" >2</th>\n",
       "                        <td id=\"T_d9da6_row2_col0\" class=\"data row2 col0\" >4141</td>\n",
       "                        <td id=\"T_d9da6_row2_col1\" class=\"data row2 col1\" >1965</td>\n",
       "                        <td id=\"T_d9da6_row2_col2\" class=\"data row2 col2\" >Graduation</td>\n",
       "                        <td id=\"T_d9da6_row2_col3\" class=\"data row2 col3\" >Together</td>\n",
       "                        <td id=\"T_d9da6_row2_col4\" class=\"data row2 col4\" >71613.000000</td>\n",
       "                        <td id=\"T_d9da6_row2_col5\" class=\"data row2 col5\" >0</td>\n",
       "                        <td id=\"T_d9da6_row2_col6\" class=\"data row2 col6\" >0</td>\n",
       "                        <td id=\"T_d9da6_row2_col7\" class=\"data row2 col7\" >21-08-2013</td>\n",
       "                        <td id=\"T_d9da6_row2_col8\" class=\"data row2 col8\" >26</td>\n",
       "                        <td id=\"T_d9da6_row2_col9\" class=\"data row2 col9\" >426</td>\n",
       "                        <td id=\"T_d9da6_row2_col10\" class=\"data row2 col10\" >49</td>\n",
       "                        <td id=\"T_d9da6_row2_col11\" class=\"data row2 col11\" >127</td>\n",
       "                        <td id=\"T_d9da6_row2_col12\" class=\"data row2 col12\" >111</td>\n",
       "                        <td id=\"T_d9da6_row2_col13\" class=\"data row2 col13\" >21</td>\n",
       "                        <td id=\"T_d9da6_row2_col14\" class=\"data row2 col14\" >42</td>\n",
       "                        <td id=\"T_d9da6_row2_col15\" class=\"data row2 col15\" >1</td>\n",
       "                        <td id=\"T_d9da6_row2_col16\" class=\"data row2 col16\" >8</td>\n",
       "                        <td id=\"T_d9da6_row2_col17\" class=\"data row2 col17\" >2</td>\n",
       "                        <td id=\"T_d9da6_row2_col18\" class=\"data row2 col18\" >10</td>\n",
       "                        <td id=\"T_d9da6_row2_col19\" class=\"data row2 col19\" >4</td>\n",
       "                        <td id=\"T_d9da6_row2_col20\" class=\"data row2 col20\" >0</td>\n",
       "                        <td id=\"T_d9da6_row2_col21\" class=\"data row2 col21\" >0</td>\n",
       "                        <td id=\"T_d9da6_row2_col22\" class=\"data row2 col22\" >0</td>\n",
       "                        <td id=\"T_d9da6_row2_col23\" class=\"data row2 col23\" >0</td>\n",
       "                        <td id=\"T_d9da6_row2_col24\" class=\"data row2 col24\" >0</td>\n",
       "                        <td id=\"T_d9da6_row2_col25\" class=\"data row2 col25\" >0</td>\n",
       "                        <td id=\"T_d9da6_row2_col26\" class=\"data row2 col26\" >3</td>\n",
       "                        <td id=\"T_d9da6_row2_col27\" class=\"data row2 col27\" >11</td>\n",
       "                        <td id=\"T_d9da6_row2_col28\" class=\"data row2 col28\" >0</td>\n",
       "            </tr>\n",
       "            <tr>\n",
       "                        <th id=\"T_d9da6_level0_row3\" class=\"row_heading level0 row3\" >3</th>\n",
       "                        <td id=\"T_d9da6_row3_col0\" class=\"data row3 col0\" >6182</td>\n",
       "                        <td id=\"T_d9da6_row3_col1\" class=\"data row3 col1\" >1984</td>\n",
       "                        <td id=\"T_d9da6_row3_col2\" class=\"data row3 col2\" >Graduation</td>\n",
       "                        <td id=\"T_d9da6_row3_col3\" class=\"data row3 col3\" >Together</td>\n",
       "                        <td id=\"T_d9da6_row3_col4\" class=\"data row3 col4\" >26646.000000</td>\n",
       "                        <td id=\"T_d9da6_row3_col5\" class=\"data row3 col5\" >1</td>\n",
       "                        <td id=\"T_d9da6_row3_col6\" class=\"data row3 col6\" >0</td>\n",
       "                        <td id=\"T_d9da6_row3_col7\" class=\"data row3 col7\" >10-02-2014</td>\n",
       "                        <td id=\"T_d9da6_row3_col8\" class=\"data row3 col8\" >26</td>\n",
       "                        <td id=\"T_d9da6_row3_col9\" class=\"data row3 col9\" >11</td>\n",
       "                        <td id=\"T_d9da6_row3_col10\" class=\"data row3 col10\" >4</td>\n",
       "                        <td id=\"T_d9da6_row3_col11\" class=\"data row3 col11\" >20</td>\n",
       "                        <td id=\"T_d9da6_row3_col12\" class=\"data row3 col12\" >10</td>\n",
       "                        <td id=\"T_d9da6_row3_col13\" class=\"data row3 col13\" >3</td>\n",
       "                        <td id=\"T_d9da6_row3_col14\" class=\"data row3 col14\" >5</td>\n",
       "                        <td id=\"T_d9da6_row3_col15\" class=\"data row3 col15\" >2</td>\n",
       "                        <td id=\"T_d9da6_row3_col16\" class=\"data row3 col16\" >2</td>\n",
       "                        <td id=\"T_d9da6_row3_col17\" class=\"data row3 col17\" >0</td>\n",
       "                        <td id=\"T_d9da6_row3_col18\" class=\"data row3 col18\" >4</td>\n",
       "                        <td id=\"T_d9da6_row3_col19\" class=\"data row3 col19\" >6</td>\n",
       "                        <td id=\"T_d9da6_row3_col20\" class=\"data row3 col20\" >0</td>\n",
       "                        <td id=\"T_d9da6_row3_col21\" class=\"data row3 col21\" >0</td>\n",
       "                        <td id=\"T_d9da6_row3_col22\" class=\"data row3 col22\" >0</td>\n",
       "                        <td id=\"T_d9da6_row3_col23\" class=\"data row3 col23\" >0</td>\n",
       "                        <td id=\"T_d9da6_row3_col24\" class=\"data row3 col24\" >0</td>\n",
       "                        <td id=\"T_d9da6_row3_col25\" class=\"data row3 col25\" >0</td>\n",
       "                        <td id=\"T_d9da6_row3_col26\" class=\"data row3 col26\" >3</td>\n",
       "                        <td id=\"T_d9da6_row3_col27\" class=\"data row3 col27\" >11</td>\n",
       "                        <td id=\"T_d9da6_row3_col28\" class=\"data row3 col28\" >0</td>\n",
       "            </tr>\n",
       "            <tr>\n",
       "                        <th id=\"T_d9da6_level0_row4\" class=\"row_heading level0 row4\" >4</th>\n",
       "                        <td id=\"T_d9da6_row4_col0\" class=\"data row4 col0\" >5324</td>\n",
       "                        <td id=\"T_d9da6_row4_col1\" class=\"data row4 col1\" >1981</td>\n",
       "                        <td id=\"T_d9da6_row4_col2\" class=\"data row4 col2\" >PhD</td>\n",
       "                        <td id=\"T_d9da6_row4_col3\" class=\"data row4 col3\" >Married</td>\n",
       "                        <td id=\"T_d9da6_row4_col4\" class=\"data row4 col4\" >58293.000000</td>\n",
       "                        <td id=\"T_d9da6_row4_col5\" class=\"data row4 col5\" >1</td>\n",
       "                        <td id=\"T_d9da6_row4_col6\" class=\"data row4 col6\" >0</td>\n",
       "                        <td id=\"T_d9da6_row4_col7\" class=\"data row4 col7\" >19-01-2014</td>\n",
       "                        <td id=\"T_d9da6_row4_col8\" class=\"data row4 col8\" >94</td>\n",
       "                        <td id=\"T_d9da6_row4_col9\" class=\"data row4 col9\" >173</td>\n",
       "                        <td id=\"T_d9da6_row4_col10\" class=\"data row4 col10\" >43</td>\n",
       "                        <td id=\"T_d9da6_row4_col11\" class=\"data row4 col11\" >118</td>\n",
       "                        <td id=\"T_d9da6_row4_col12\" class=\"data row4 col12\" >46</td>\n",
       "                        <td id=\"T_d9da6_row4_col13\" class=\"data row4 col13\" >27</td>\n",
       "                        <td id=\"T_d9da6_row4_col14\" class=\"data row4 col14\" >15</td>\n",
       "                        <td id=\"T_d9da6_row4_col15\" class=\"data row4 col15\" >5</td>\n",
       "                        <td id=\"T_d9da6_row4_col16\" class=\"data row4 col16\" >5</td>\n",
       "                        <td id=\"T_d9da6_row4_col17\" class=\"data row4 col17\" >3</td>\n",
       "                        <td id=\"T_d9da6_row4_col18\" class=\"data row4 col18\" >6</td>\n",
       "                        <td id=\"T_d9da6_row4_col19\" class=\"data row4 col19\" >5</td>\n",
       "                        <td id=\"T_d9da6_row4_col20\" class=\"data row4 col20\" >0</td>\n",
       "                        <td id=\"T_d9da6_row4_col21\" class=\"data row4 col21\" >0</td>\n",
       "                        <td id=\"T_d9da6_row4_col22\" class=\"data row4 col22\" >0</td>\n",
       "                        <td id=\"T_d9da6_row4_col23\" class=\"data row4 col23\" >0</td>\n",
       "                        <td id=\"T_d9da6_row4_col24\" class=\"data row4 col24\" >0</td>\n",
       "                        <td id=\"T_d9da6_row4_col25\" class=\"data row4 col25\" >0</td>\n",
       "                        <td id=\"T_d9da6_row4_col26\" class=\"data row4 col26\" >3</td>\n",
       "                        <td id=\"T_d9da6_row4_col27\" class=\"data row4 col27\" >11</td>\n",
       "                        <td id=\"T_d9da6_row4_col28\" class=\"data row4 col28\" >0</td>\n",
       "            </tr>\n",
       "            <tr>\n",
       "                        <th id=\"T_d9da6_level0_row5\" class=\"row_heading level0 row5\" >5</th>\n",
       "                        <td id=\"T_d9da6_row5_col0\" class=\"data row5 col0\" >7446</td>\n",
       "                        <td id=\"T_d9da6_row5_col1\" class=\"data row5 col1\" >1967</td>\n",
       "                        <td id=\"T_d9da6_row5_col2\" class=\"data row5 col2\" >Master</td>\n",
       "                        <td id=\"T_d9da6_row5_col3\" class=\"data row5 col3\" >Together</td>\n",
       "                        <td id=\"T_d9da6_row5_col4\" class=\"data row5 col4\" >62513.000000</td>\n",
       "                        <td id=\"T_d9da6_row5_col5\" class=\"data row5 col5\" >0</td>\n",
       "                        <td id=\"T_d9da6_row5_col6\" class=\"data row5 col6\" >1</td>\n",
       "                        <td id=\"T_d9da6_row5_col7\" class=\"data row5 col7\" >09-09-2013</td>\n",
       "                        <td id=\"T_d9da6_row5_col8\" class=\"data row5 col8\" >16</td>\n",
       "                        <td id=\"T_d9da6_row5_col9\" class=\"data row5 col9\" >520</td>\n",
       "                        <td id=\"T_d9da6_row5_col10\" class=\"data row5 col10\" >42</td>\n",
       "                        <td id=\"T_d9da6_row5_col11\" class=\"data row5 col11\" >98</td>\n",
       "                        <td id=\"T_d9da6_row5_col12\" class=\"data row5 col12\" >0</td>\n",
       "                        <td id=\"T_d9da6_row5_col13\" class=\"data row5 col13\" >42</td>\n",
       "                        <td id=\"T_d9da6_row5_col14\" class=\"data row5 col14\" >14</td>\n",
       "                        <td id=\"T_d9da6_row5_col15\" class=\"data row5 col15\" >2</td>\n",
       "                        <td id=\"T_d9da6_row5_col16\" class=\"data row5 col16\" >6</td>\n",
       "                        <td id=\"T_d9da6_row5_col17\" class=\"data row5 col17\" >4</td>\n",
       "                        <td id=\"T_d9da6_row5_col18\" class=\"data row5 col18\" >10</td>\n",
       "                        <td id=\"T_d9da6_row5_col19\" class=\"data row5 col19\" >6</td>\n",
       "                        <td id=\"T_d9da6_row5_col20\" class=\"data row5 col20\" >0</td>\n",
       "                        <td id=\"T_d9da6_row5_col21\" class=\"data row5 col21\" >0</td>\n",
       "                        <td id=\"T_d9da6_row5_col22\" class=\"data row5 col22\" >0</td>\n",
       "                        <td id=\"T_d9da6_row5_col23\" class=\"data row5 col23\" >0</td>\n",
       "                        <td id=\"T_d9da6_row5_col24\" class=\"data row5 col24\" >0</td>\n",
       "                        <td id=\"T_d9da6_row5_col25\" class=\"data row5 col25\" >0</td>\n",
       "                        <td id=\"T_d9da6_row5_col26\" class=\"data row5 col26\" >3</td>\n",
       "                        <td id=\"T_d9da6_row5_col27\" class=\"data row5 col27\" >11</td>\n",
       "                        <td id=\"T_d9da6_row5_col28\" class=\"data row5 col28\" >0</td>\n",
       "            </tr>\n",
       "            <tr>\n",
       "                        <th id=\"T_d9da6_level0_row6\" class=\"row_heading level0 row6\" >6</th>\n",
       "                        <td id=\"T_d9da6_row6_col0\" class=\"data row6 col0\" >965</td>\n",
       "                        <td id=\"T_d9da6_row6_col1\" class=\"data row6 col1\" >1971</td>\n",
       "                        <td id=\"T_d9da6_row6_col2\" class=\"data row6 col2\" >Graduation</td>\n",
       "                        <td id=\"T_d9da6_row6_col3\" class=\"data row6 col3\" >Divorced</td>\n",
       "                        <td id=\"T_d9da6_row6_col4\" class=\"data row6 col4\" >55635.000000</td>\n",
       "                        <td id=\"T_d9da6_row6_col5\" class=\"data row6 col5\" >0</td>\n",
       "                        <td id=\"T_d9da6_row6_col6\" class=\"data row6 col6\" >1</td>\n",
       "                        <td id=\"T_d9da6_row6_col7\" class=\"data row6 col7\" >13-11-2012</td>\n",
       "                        <td id=\"T_d9da6_row6_col8\" class=\"data row6 col8\" >34</td>\n",
       "                        <td id=\"T_d9da6_row6_col9\" class=\"data row6 col9\" >235</td>\n",
       "                        <td id=\"T_d9da6_row6_col10\" class=\"data row6 col10\" >65</td>\n",
       "                        <td id=\"T_d9da6_row6_col11\" class=\"data row6 col11\" >164</td>\n",
       "                        <td id=\"T_d9da6_row6_col12\" class=\"data row6 col12\" >50</td>\n",
       "                        <td id=\"T_d9da6_row6_col13\" class=\"data row6 col13\" >49</td>\n",
       "                        <td id=\"T_d9da6_row6_col14\" class=\"data row6 col14\" >27</td>\n",
       "                        <td id=\"T_d9da6_row6_col15\" class=\"data row6 col15\" >4</td>\n",
       "                        <td id=\"T_d9da6_row6_col16\" class=\"data row6 col16\" >7</td>\n",
       "                        <td id=\"T_d9da6_row6_col17\" class=\"data row6 col17\" >3</td>\n",
       "                        <td id=\"T_d9da6_row6_col18\" class=\"data row6 col18\" >7</td>\n",
       "                        <td id=\"T_d9da6_row6_col19\" class=\"data row6 col19\" >6</td>\n",
       "                        <td id=\"T_d9da6_row6_col20\" class=\"data row6 col20\" >0</td>\n",
       "                        <td id=\"T_d9da6_row6_col21\" class=\"data row6 col21\" >0</td>\n",
       "                        <td id=\"T_d9da6_row6_col22\" class=\"data row6 col22\" >0</td>\n",
       "                        <td id=\"T_d9da6_row6_col23\" class=\"data row6 col23\" >0</td>\n",
       "                        <td id=\"T_d9da6_row6_col24\" class=\"data row6 col24\" >0</td>\n",
       "                        <td id=\"T_d9da6_row6_col25\" class=\"data row6 col25\" >0</td>\n",
       "                        <td id=\"T_d9da6_row6_col26\" class=\"data row6 col26\" >3</td>\n",
       "                        <td id=\"T_d9da6_row6_col27\" class=\"data row6 col27\" >11</td>\n",
       "                        <td id=\"T_d9da6_row6_col28\" class=\"data row6 col28\" >0</td>\n",
       "            </tr>\n",
       "            <tr>\n",
       "                        <th id=\"T_d9da6_level0_row7\" class=\"row_heading level0 row7\" >7</th>\n",
       "                        <td id=\"T_d9da6_row7_col0\" class=\"data row7 col0\" >6177</td>\n",
       "                        <td id=\"T_d9da6_row7_col1\" class=\"data row7 col1\" >1985</td>\n",
       "                        <td id=\"T_d9da6_row7_col2\" class=\"data row7 col2\" >PhD</td>\n",
       "                        <td id=\"T_d9da6_row7_col3\" class=\"data row7 col3\" >Married</td>\n",
       "                        <td id=\"T_d9da6_row7_col4\" class=\"data row7 col4\" >33454.000000</td>\n",
       "                        <td id=\"T_d9da6_row7_col5\" class=\"data row7 col5\" >1</td>\n",
       "                        <td id=\"T_d9da6_row7_col6\" class=\"data row7 col6\" >0</td>\n",
       "                        <td id=\"T_d9da6_row7_col7\" class=\"data row7 col7\" >08-05-2013</td>\n",
       "                        <td id=\"T_d9da6_row7_col8\" class=\"data row7 col8\" >32</td>\n",
       "                        <td id=\"T_d9da6_row7_col9\" class=\"data row7 col9\" >76</td>\n",
       "                        <td id=\"T_d9da6_row7_col10\" class=\"data row7 col10\" >10</td>\n",
       "                        <td id=\"T_d9da6_row7_col11\" class=\"data row7 col11\" >56</td>\n",
       "                        <td id=\"T_d9da6_row7_col12\" class=\"data row7 col12\" >3</td>\n",
       "                        <td id=\"T_d9da6_row7_col13\" class=\"data row7 col13\" >1</td>\n",
       "                        <td id=\"T_d9da6_row7_col14\" class=\"data row7 col14\" >23</td>\n",
       "                        <td id=\"T_d9da6_row7_col15\" class=\"data row7 col15\" >2</td>\n",
       "                        <td id=\"T_d9da6_row7_col16\" class=\"data row7 col16\" >4</td>\n",
       "                        <td id=\"T_d9da6_row7_col17\" class=\"data row7 col17\" >0</td>\n",
       "                        <td id=\"T_d9da6_row7_col18\" class=\"data row7 col18\" >4</td>\n",
       "                        <td id=\"T_d9da6_row7_col19\" class=\"data row7 col19\" >8</td>\n",
       "                        <td id=\"T_d9da6_row7_col20\" class=\"data row7 col20\" >0</td>\n",
       "                        <td id=\"T_d9da6_row7_col21\" class=\"data row7 col21\" >0</td>\n",
       "                        <td id=\"T_d9da6_row7_col22\" class=\"data row7 col22\" >0</td>\n",
       "                        <td id=\"T_d9da6_row7_col23\" class=\"data row7 col23\" >0</td>\n",
       "                        <td id=\"T_d9da6_row7_col24\" class=\"data row7 col24\" >0</td>\n",
       "                        <td id=\"T_d9da6_row7_col25\" class=\"data row7 col25\" >0</td>\n",
       "                        <td id=\"T_d9da6_row7_col26\" class=\"data row7 col26\" >3</td>\n",
       "                        <td id=\"T_d9da6_row7_col27\" class=\"data row7 col27\" >11</td>\n",
       "                        <td id=\"T_d9da6_row7_col28\" class=\"data row7 col28\" >0</td>\n",
       "            </tr>\n",
       "            <tr>\n",
       "                        <th id=\"T_d9da6_level0_row8\" class=\"row_heading level0 row8\" >8</th>\n",
       "                        <td id=\"T_d9da6_row8_col0\" class=\"data row8 col0\" >4855</td>\n",
       "                        <td id=\"T_d9da6_row8_col1\" class=\"data row8 col1\" >1974</td>\n",
       "                        <td id=\"T_d9da6_row8_col2\" class=\"data row8 col2\" >PhD</td>\n",
       "                        <td id=\"T_d9da6_row8_col3\" class=\"data row8 col3\" >Together</td>\n",
       "                        <td id=\"T_d9da6_row8_col4\" class=\"data row8 col4\" >30351.000000</td>\n",
       "                        <td id=\"T_d9da6_row8_col5\" class=\"data row8 col5\" >1</td>\n",
       "                        <td id=\"T_d9da6_row8_col6\" class=\"data row8 col6\" >0</td>\n",
       "                        <td id=\"T_d9da6_row8_col7\" class=\"data row8 col7\" >06-06-2013</td>\n",
       "                        <td id=\"T_d9da6_row8_col8\" class=\"data row8 col8\" >19</td>\n",
       "                        <td id=\"T_d9da6_row8_col9\" class=\"data row8 col9\" >14</td>\n",
       "                        <td id=\"T_d9da6_row8_col10\" class=\"data row8 col10\" >0</td>\n",
       "                        <td id=\"T_d9da6_row8_col11\" class=\"data row8 col11\" >24</td>\n",
       "                        <td id=\"T_d9da6_row8_col12\" class=\"data row8 col12\" >3</td>\n",
       "                        <td id=\"T_d9da6_row8_col13\" class=\"data row8 col13\" >3</td>\n",
       "                        <td id=\"T_d9da6_row8_col14\" class=\"data row8 col14\" >2</td>\n",
       "                        <td id=\"T_d9da6_row8_col15\" class=\"data row8 col15\" >1</td>\n",
       "                        <td id=\"T_d9da6_row8_col16\" class=\"data row8 col16\" >3</td>\n",
       "                        <td id=\"T_d9da6_row8_col17\" class=\"data row8 col17\" >0</td>\n",
       "                        <td id=\"T_d9da6_row8_col18\" class=\"data row8 col18\" >2</td>\n",
       "                        <td id=\"T_d9da6_row8_col19\" class=\"data row8 col19\" >9</td>\n",
       "                        <td id=\"T_d9da6_row8_col20\" class=\"data row8 col20\" >0</td>\n",
       "                        <td id=\"T_d9da6_row8_col21\" class=\"data row8 col21\" >0</td>\n",
       "                        <td id=\"T_d9da6_row8_col22\" class=\"data row8 col22\" >0</td>\n",
       "                        <td id=\"T_d9da6_row8_col23\" class=\"data row8 col23\" >0</td>\n",
       "                        <td id=\"T_d9da6_row8_col24\" class=\"data row8 col24\" >0</td>\n",
       "                        <td id=\"T_d9da6_row8_col25\" class=\"data row8 col25\" >0</td>\n",
       "                        <td id=\"T_d9da6_row8_col26\" class=\"data row8 col26\" >3</td>\n",
       "                        <td id=\"T_d9da6_row8_col27\" class=\"data row8 col27\" >11</td>\n",
       "                        <td id=\"T_d9da6_row8_col28\" class=\"data row8 col28\" >1</td>\n",
       "            </tr>\n",
       "            <tr>\n",
       "                        <th id=\"T_d9da6_level0_row9\" class=\"row_heading level0 row9\" >9</th>\n",
       "                        <td id=\"T_d9da6_row9_col0\" class=\"data row9 col0\" >5899</td>\n",
       "                        <td id=\"T_d9da6_row9_col1\" class=\"data row9 col1\" >1950</td>\n",
       "                        <td id=\"T_d9da6_row9_col2\" class=\"data row9 col2\" >PhD</td>\n",
       "                        <td id=\"T_d9da6_row9_col3\" class=\"data row9 col3\" >Together</td>\n",
       "                        <td id=\"T_d9da6_row9_col4\" class=\"data row9 col4\" >5648.000000</td>\n",
       "                        <td id=\"T_d9da6_row9_col5\" class=\"data row9 col5\" >1</td>\n",
       "                        <td id=\"T_d9da6_row9_col6\" class=\"data row9 col6\" >1</td>\n",
       "                        <td id=\"T_d9da6_row9_col7\" class=\"data row9 col7\" >13-03-2014</td>\n",
       "                        <td id=\"T_d9da6_row9_col8\" class=\"data row9 col8\" >68</td>\n",
       "                        <td id=\"T_d9da6_row9_col9\" class=\"data row9 col9\" >28</td>\n",
       "                        <td id=\"T_d9da6_row9_col10\" class=\"data row9 col10\" >0</td>\n",
       "                        <td id=\"T_d9da6_row9_col11\" class=\"data row9 col11\" >6</td>\n",
       "                        <td id=\"T_d9da6_row9_col12\" class=\"data row9 col12\" >1</td>\n",
       "                        <td id=\"T_d9da6_row9_col13\" class=\"data row9 col13\" >1</td>\n",
       "                        <td id=\"T_d9da6_row9_col14\" class=\"data row9 col14\" >13</td>\n",
       "                        <td id=\"T_d9da6_row9_col15\" class=\"data row9 col15\" >1</td>\n",
       "                        <td id=\"T_d9da6_row9_col16\" class=\"data row9 col16\" >1</td>\n",
       "                        <td id=\"T_d9da6_row9_col17\" class=\"data row9 col17\" >0</td>\n",
       "                        <td id=\"T_d9da6_row9_col18\" class=\"data row9 col18\" >0</td>\n",
       "                        <td id=\"T_d9da6_row9_col19\" class=\"data row9 col19\" >20</td>\n",
       "                        <td id=\"T_d9da6_row9_col20\" class=\"data row9 col20\" >1</td>\n",
       "                        <td id=\"T_d9da6_row9_col21\" class=\"data row9 col21\" >0</td>\n",
       "                        <td id=\"T_d9da6_row9_col22\" class=\"data row9 col22\" >0</td>\n",
       "                        <td id=\"T_d9da6_row9_col23\" class=\"data row9 col23\" >0</td>\n",
       "                        <td id=\"T_d9da6_row9_col24\" class=\"data row9 col24\" >0</td>\n",
       "                        <td id=\"T_d9da6_row9_col25\" class=\"data row9 col25\" >0</td>\n",
       "                        <td id=\"T_d9da6_row9_col26\" class=\"data row9 col26\" >3</td>\n",
       "                        <td id=\"T_d9da6_row9_col27\" class=\"data row9 col27\" >11</td>\n",
       "                        <td id=\"T_d9da6_row9_col28\" class=\"data row9 col28\" >0</td>\n",
       "            </tr>\n",
       "            <tr>\n",
       "                        <th id=\"T_d9da6_level0_row10\" class=\"row_heading level0 row10\" >10</th>\n",
       "                        <td id=\"T_d9da6_row10_col0\" class=\"data row10 col0\" >1994</td>\n",
       "                        <td id=\"T_d9da6_row10_col1\" class=\"data row10 col1\" >1983</td>\n",
       "                        <td id=\"T_d9da6_row10_col2\" class=\"data row10 col2\" >Graduation</td>\n",
       "                        <td id=\"T_d9da6_row10_col3\" class=\"data row10 col3\" >Married</td>\n",
       "                        <td id=\"T_d9da6_row10_col4\" class=\"data row10 col4\" >nan</td>\n",
       "                        <td id=\"T_d9da6_row10_col5\" class=\"data row10 col5\" >1</td>\n",
       "                        <td id=\"T_d9da6_row10_col6\" class=\"data row10 col6\" >0</td>\n",
       "                        <td id=\"T_d9da6_row10_col7\" class=\"data row10 col7\" >15-11-2013</td>\n",
       "                        <td id=\"T_d9da6_row10_col8\" class=\"data row10 col8\" >11</td>\n",
       "                        <td id=\"T_d9da6_row10_col9\" class=\"data row10 col9\" >5</td>\n",
       "                        <td id=\"T_d9da6_row10_col10\" class=\"data row10 col10\" >5</td>\n",
       "                        <td id=\"T_d9da6_row10_col11\" class=\"data row10 col11\" >6</td>\n",
       "                        <td id=\"T_d9da6_row10_col12\" class=\"data row10 col12\" >0</td>\n",
       "                        <td id=\"T_d9da6_row10_col13\" class=\"data row10 col13\" >2</td>\n",
       "                        <td id=\"T_d9da6_row10_col14\" class=\"data row10 col14\" >1</td>\n",
       "                        <td id=\"T_d9da6_row10_col15\" class=\"data row10 col15\" >1</td>\n",
       "                        <td id=\"T_d9da6_row10_col16\" class=\"data row10 col16\" >1</td>\n",
       "                        <td id=\"T_d9da6_row10_col17\" class=\"data row10 col17\" >0</td>\n",
       "                        <td id=\"T_d9da6_row10_col18\" class=\"data row10 col18\" >2</td>\n",
       "                        <td id=\"T_d9da6_row10_col19\" class=\"data row10 col19\" >7</td>\n",
       "                        <td id=\"T_d9da6_row10_col20\" class=\"data row10 col20\" >0</td>\n",
       "                        <td id=\"T_d9da6_row10_col21\" class=\"data row10 col21\" >0</td>\n",
       "                        <td id=\"T_d9da6_row10_col22\" class=\"data row10 col22\" >0</td>\n",
       "                        <td id=\"T_d9da6_row10_col23\" class=\"data row10 col23\" >0</td>\n",
       "                        <td id=\"T_d9da6_row10_col24\" class=\"data row10 col24\" >0</td>\n",
       "                        <td id=\"T_d9da6_row10_col25\" class=\"data row10 col25\" >0</td>\n",
       "                        <td id=\"T_d9da6_row10_col26\" class=\"data row10 col26\" >3</td>\n",
       "                        <td id=\"T_d9da6_row10_col27\" class=\"data row10 col27\" >11</td>\n",
       "                        <td id=\"T_d9da6_row10_col28\" class=\"data row10 col28\" >0</td>\n",
       "            </tr>\n",
       "    </tbody></table>"
      ],
      "text/plain": [
       "<pandas.io.formats.style.Styler at 0x1b25e124820>"
      ]
     },
     "execution_count": 192,
     "metadata": {},
     "output_type": "execute_result"
    }
   ],
   "source": [
    "df.head(11).style.highlight_null(null_color='yellow')"
   ]
  },
  {
   "cell_type": "code",
   "execution_count": 194,
   "metadata": {},
   "outputs": [
    {
     "data": {
      "text/plain": [
       "2240"
      ]
     },
     "execution_count": 194,
     "metadata": {},
     "output_type": "execute_result"
    }
   ],
   "source": [
    "df['ID'].nunique()"
   ]
  },
  {
   "cell_type": "code",
   "execution_count": 195,
   "metadata": {},
   "outputs": [],
   "source": [
    "# ID column is of no use so we drop it\n",
    "df = df.drop('ID', axis=1)"
   ]
  },
  {
   "cell_type": "code",
   "execution_count": 196,
   "metadata": {
    "scrolled": false
   },
   "outputs": [
    {
     "name": "stdout",
     "output_type": "stream",
     "text": [
      "<class 'pandas.core.frame.DataFrame'>\n",
      "RangeIndex: 2240 entries, 0 to 2239\n",
      "Data columns (total 28 columns):\n",
      " #   Column               Non-Null Count  Dtype  \n",
      "---  ------               --------------  -----  \n",
      " 0   Year_Birth           2240 non-null   int64  \n",
      " 1   Education            2240 non-null   object \n",
      " 2   Marital_Status       2240 non-null   object \n",
      " 3   Income               2216 non-null   float64\n",
      " 4   Kidhome              2240 non-null   int64  \n",
      " 5   Teenhome             2240 non-null   int64  \n",
      " 6   Dt_Customer          2240 non-null   object \n",
      " 7   Recency              2240 non-null   int64  \n",
      " 8   MntWines             2240 non-null   int64  \n",
      " 9   MntFruits            2240 non-null   int64  \n",
      " 10  MntMeatProducts      2240 non-null   int64  \n",
      " 11  MntFishProducts      2240 non-null   int64  \n",
      " 12  MntSweetProducts     2240 non-null   int64  \n",
      " 13  MntGoldProds         2240 non-null   int64  \n",
      " 14  NumDealsPurchases    2240 non-null   int64  \n",
      " 15  NumWebPurchases      2240 non-null   int64  \n",
      " 16  NumCatalogPurchases  2240 non-null   int64  \n",
      " 17  NumStorePurchases    2240 non-null   int64  \n",
      " 18  NumWebVisitsMonth    2240 non-null   int64  \n",
      " 19  AcceptedCmp3         2240 non-null   int64  \n",
      " 20  AcceptedCmp4         2240 non-null   int64  \n",
      " 21  AcceptedCmp5         2240 non-null   int64  \n",
      " 22  AcceptedCmp1         2240 non-null   int64  \n",
      " 23  AcceptedCmp2         2240 non-null   int64  \n",
      " 24  Complain             2240 non-null   int64  \n",
      " 25  Z_CostContact        2240 non-null   int64  \n",
      " 26  Z_Revenue            2240 non-null   int64  \n",
      " 27  Response             2240 non-null   int64  \n",
      "dtypes: float64(1), int64(24), object(3)\n",
      "memory usage: 490.1+ KB\n"
     ]
    }
   ],
   "source": [
    "df.info() #Information about the dataframe"
   ]
  },
  {
   "cell_type": "code",
   "execution_count": 197,
   "metadata": {},
   "outputs": [
    {
     "data": {
      "text/html": [
       "<div>\n",
       "<style scoped>\n",
       "    .dataframe tbody tr th:only-of-type {\n",
       "        vertical-align: middle;\n",
       "    }\n",
       "\n",
       "    .dataframe tbody tr th {\n",
       "        vertical-align: top;\n",
       "    }\n",
       "\n",
       "    .dataframe thead th {\n",
       "        text-align: right;\n",
       "    }\n",
       "</style>\n",
       "<table border=\"1\" class=\"dataframe\">\n",
       "  <thead>\n",
       "    <tr style=\"text-align: right;\">\n",
       "      <th></th>\n",
       "      <th>count</th>\n",
       "      <th>mean</th>\n",
       "      <th>std</th>\n",
       "      <th>min</th>\n",
       "      <th>25%</th>\n",
       "      <th>50%</th>\n",
       "      <th>75%</th>\n",
       "      <th>max</th>\n",
       "    </tr>\n",
       "  </thead>\n",
       "  <tbody>\n",
       "    <tr>\n",
       "      <th>Year_Birth</th>\n",
       "      <td>2240.0</td>\n",
       "      <td>1968.805804</td>\n",
       "      <td>11.984069</td>\n",
       "      <td>1893.0</td>\n",
       "      <td>1959.00</td>\n",
       "      <td>1970.0</td>\n",
       "      <td>1977.00</td>\n",
       "      <td>1996.0</td>\n",
       "    </tr>\n",
       "    <tr>\n",
       "      <th>Income</th>\n",
       "      <td>2216.0</td>\n",
       "      <td>52247.251354</td>\n",
       "      <td>25173.076661</td>\n",
       "      <td>1730.0</td>\n",
       "      <td>35303.00</td>\n",
       "      <td>51381.5</td>\n",
       "      <td>68522.00</td>\n",
       "      <td>666666.0</td>\n",
       "    </tr>\n",
       "    <tr>\n",
       "      <th>Kidhome</th>\n",
       "      <td>2240.0</td>\n",
       "      <td>0.444196</td>\n",
       "      <td>0.538398</td>\n",
       "      <td>0.0</td>\n",
       "      <td>0.00</td>\n",
       "      <td>0.0</td>\n",
       "      <td>1.00</td>\n",
       "      <td>2.0</td>\n",
       "    </tr>\n",
       "    <tr>\n",
       "      <th>Teenhome</th>\n",
       "      <td>2240.0</td>\n",
       "      <td>0.506250</td>\n",
       "      <td>0.544538</td>\n",
       "      <td>0.0</td>\n",
       "      <td>0.00</td>\n",
       "      <td>0.0</td>\n",
       "      <td>1.00</td>\n",
       "      <td>2.0</td>\n",
       "    </tr>\n",
       "    <tr>\n",
       "      <th>Recency</th>\n",
       "      <td>2240.0</td>\n",
       "      <td>49.109375</td>\n",
       "      <td>28.962453</td>\n",
       "      <td>0.0</td>\n",
       "      <td>24.00</td>\n",
       "      <td>49.0</td>\n",
       "      <td>74.00</td>\n",
       "      <td>99.0</td>\n",
       "    </tr>\n",
       "    <tr>\n",
       "      <th>MntWines</th>\n",
       "      <td>2240.0</td>\n",
       "      <td>303.935714</td>\n",
       "      <td>336.597393</td>\n",
       "      <td>0.0</td>\n",
       "      <td>23.75</td>\n",
       "      <td>173.5</td>\n",
       "      <td>504.25</td>\n",
       "      <td>1493.0</td>\n",
       "    </tr>\n",
       "    <tr>\n",
       "      <th>MntFruits</th>\n",
       "      <td>2240.0</td>\n",
       "      <td>26.302232</td>\n",
       "      <td>39.773434</td>\n",
       "      <td>0.0</td>\n",
       "      <td>1.00</td>\n",
       "      <td>8.0</td>\n",
       "      <td>33.00</td>\n",
       "      <td>199.0</td>\n",
       "    </tr>\n",
       "    <tr>\n",
       "      <th>MntMeatProducts</th>\n",
       "      <td>2240.0</td>\n",
       "      <td>166.950000</td>\n",
       "      <td>225.715373</td>\n",
       "      <td>0.0</td>\n",
       "      <td>16.00</td>\n",
       "      <td>67.0</td>\n",
       "      <td>232.00</td>\n",
       "      <td>1725.0</td>\n",
       "    </tr>\n",
       "    <tr>\n",
       "      <th>MntFishProducts</th>\n",
       "      <td>2240.0</td>\n",
       "      <td>37.525446</td>\n",
       "      <td>54.628979</td>\n",
       "      <td>0.0</td>\n",
       "      <td>3.00</td>\n",
       "      <td>12.0</td>\n",
       "      <td>50.00</td>\n",
       "      <td>259.0</td>\n",
       "    </tr>\n",
       "    <tr>\n",
       "      <th>MntSweetProducts</th>\n",
       "      <td>2240.0</td>\n",
       "      <td>27.062946</td>\n",
       "      <td>41.280498</td>\n",
       "      <td>0.0</td>\n",
       "      <td>1.00</td>\n",
       "      <td>8.0</td>\n",
       "      <td>33.00</td>\n",
       "      <td>263.0</td>\n",
       "    </tr>\n",
       "    <tr>\n",
       "      <th>MntGoldProds</th>\n",
       "      <td>2240.0</td>\n",
       "      <td>44.021875</td>\n",
       "      <td>52.167439</td>\n",
       "      <td>0.0</td>\n",
       "      <td>9.00</td>\n",
       "      <td>24.0</td>\n",
       "      <td>56.00</td>\n",
       "      <td>362.0</td>\n",
       "    </tr>\n",
       "    <tr>\n",
       "      <th>NumDealsPurchases</th>\n",
       "      <td>2240.0</td>\n",
       "      <td>2.325000</td>\n",
       "      <td>1.932238</td>\n",
       "      <td>0.0</td>\n",
       "      <td>1.00</td>\n",
       "      <td>2.0</td>\n",
       "      <td>3.00</td>\n",
       "      <td>15.0</td>\n",
       "    </tr>\n",
       "    <tr>\n",
       "      <th>NumWebPurchases</th>\n",
       "      <td>2240.0</td>\n",
       "      <td>4.084821</td>\n",
       "      <td>2.778714</td>\n",
       "      <td>0.0</td>\n",
       "      <td>2.00</td>\n",
       "      <td>4.0</td>\n",
       "      <td>6.00</td>\n",
       "      <td>27.0</td>\n",
       "    </tr>\n",
       "    <tr>\n",
       "      <th>NumCatalogPurchases</th>\n",
       "      <td>2240.0</td>\n",
       "      <td>2.662054</td>\n",
       "      <td>2.923101</td>\n",
       "      <td>0.0</td>\n",
       "      <td>0.00</td>\n",
       "      <td>2.0</td>\n",
       "      <td>4.00</td>\n",
       "      <td>28.0</td>\n",
       "    </tr>\n",
       "    <tr>\n",
       "      <th>NumStorePurchases</th>\n",
       "      <td>2240.0</td>\n",
       "      <td>5.790179</td>\n",
       "      <td>3.250958</td>\n",
       "      <td>0.0</td>\n",
       "      <td>3.00</td>\n",
       "      <td>5.0</td>\n",
       "      <td>8.00</td>\n",
       "      <td>13.0</td>\n",
       "    </tr>\n",
       "    <tr>\n",
       "      <th>NumWebVisitsMonth</th>\n",
       "      <td>2240.0</td>\n",
       "      <td>5.316518</td>\n",
       "      <td>2.426645</td>\n",
       "      <td>0.0</td>\n",
       "      <td>3.00</td>\n",
       "      <td>6.0</td>\n",
       "      <td>7.00</td>\n",
       "      <td>20.0</td>\n",
       "    </tr>\n",
       "    <tr>\n",
       "      <th>AcceptedCmp3</th>\n",
       "      <td>2240.0</td>\n",
       "      <td>0.072768</td>\n",
       "      <td>0.259813</td>\n",
       "      <td>0.0</td>\n",
       "      <td>0.00</td>\n",
       "      <td>0.0</td>\n",
       "      <td>0.00</td>\n",
       "      <td>1.0</td>\n",
       "    </tr>\n",
       "    <tr>\n",
       "      <th>AcceptedCmp4</th>\n",
       "      <td>2240.0</td>\n",
       "      <td>0.074554</td>\n",
       "      <td>0.262728</td>\n",
       "      <td>0.0</td>\n",
       "      <td>0.00</td>\n",
       "      <td>0.0</td>\n",
       "      <td>0.00</td>\n",
       "      <td>1.0</td>\n",
       "    </tr>\n",
       "    <tr>\n",
       "      <th>AcceptedCmp5</th>\n",
       "      <td>2240.0</td>\n",
       "      <td>0.072768</td>\n",
       "      <td>0.259813</td>\n",
       "      <td>0.0</td>\n",
       "      <td>0.00</td>\n",
       "      <td>0.0</td>\n",
       "      <td>0.00</td>\n",
       "      <td>1.0</td>\n",
       "    </tr>\n",
       "    <tr>\n",
       "      <th>AcceptedCmp1</th>\n",
       "      <td>2240.0</td>\n",
       "      <td>0.064286</td>\n",
       "      <td>0.245316</td>\n",
       "      <td>0.0</td>\n",
       "      <td>0.00</td>\n",
       "      <td>0.0</td>\n",
       "      <td>0.00</td>\n",
       "      <td>1.0</td>\n",
       "    </tr>\n",
       "    <tr>\n",
       "      <th>AcceptedCmp2</th>\n",
       "      <td>2240.0</td>\n",
       "      <td>0.013393</td>\n",
       "      <td>0.114976</td>\n",
       "      <td>0.0</td>\n",
       "      <td>0.00</td>\n",
       "      <td>0.0</td>\n",
       "      <td>0.00</td>\n",
       "      <td>1.0</td>\n",
       "    </tr>\n",
       "    <tr>\n",
       "      <th>Complain</th>\n",
       "      <td>2240.0</td>\n",
       "      <td>0.009375</td>\n",
       "      <td>0.096391</td>\n",
       "      <td>0.0</td>\n",
       "      <td>0.00</td>\n",
       "      <td>0.0</td>\n",
       "      <td>0.00</td>\n",
       "      <td>1.0</td>\n",
       "    </tr>\n",
       "    <tr>\n",
       "      <th>Z_CostContact</th>\n",
       "      <td>2240.0</td>\n",
       "      <td>3.000000</td>\n",
       "      <td>0.000000</td>\n",
       "      <td>3.0</td>\n",
       "      <td>3.00</td>\n",
       "      <td>3.0</td>\n",
       "      <td>3.00</td>\n",
       "      <td>3.0</td>\n",
       "    </tr>\n",
       "    <tr>\n",
       "      <th>Z_Revenue</th>\n",
       "      <td>2240.0</td>\n",
       "      <td>11.000000</td>\n",
       "      <td>0.000000</td>\n",
       "      <td>11.0</td>\n",
       "      <td>11.00</td>\n",
       "      <td>11.0</td>\n",
       "      <td>11.00</td>\n",
       "      <td>11.0</td>\n",
       "    </tr>\n",
       "    <tr>\n",
       "      <th>Response</th>\n",
       "      <td>2240.0</td>\n",
       "      <td>0.149107</td>\n",
       "      <td>0.356274</td>\n",
       "      <td>0.0</td>\n",
       "      <td>0.00</td>\n",
       "      <td>0.0</td>\n",
       "      <td>0.00</td>\n",
       "      <td>1.0</td>\n",
       "    </tr>\n",
       "  </tbody>\n",
       "</table>\n",
       "</div>"
      ],
      "text/plain": [
       "                      count          mean           std     min       25%  \\\n",
       "Year_Birth           2240.0   1968.805804     11.984069  1893.0   1959.00   \n",
       "Income               2216.0  52247.251354  25173.076661  1730.0  35303.00   \n",
       "Kidhome              2240.0      0.444196      0.538398     0.0      0.00   \n",
       "Teenhome             2240.0      0.506250      0.544538     0.0      0.00   \n",
       "Recency              2240.0     49.109375     28.962453     0.0     24.00   \n",
       "MntWines             2240.0    303.935714    336.597393     0.0     23.75   \n",
       "MntFruits            2240.0     26.302232     39.773434     0.0      1.00   \n",
       "MntMeatProducts      2240.0    166.950000    225.715373     0.0     16.00   \n",
       "MntFishProducts      2240.0     37.525446     54.628979     0.0      3.00   \n",
       "MntSweetProducts     2240.0     27.062946     41.280498     0.0      1.00   \n",
       "MntGoldProds         2240.0     44.021875     52.167439     0.0      9.00   \n",
       "NumDealsPurchases    2240.0      2.325000      1.932238     0.0      1.00   \n",
       "NumWebPurchases      2240.0      4.084821      2.778714     0.0      2.00   \n",
       "NumCatalogPurchases  2240.0      2.662054      2.923101     0.0      0.00   \n",
       "NumStorePurchases    2240.0      5.790179      3.250958     0.0      3.00   \n",
       "NumWebVisitsMonth    2240.0      5.316518      2.426645     0.0      3.00   \n",
       "AcceptedCmp3         2240.0      0.072768      0.259813     0.0      0.00   \n",
       "AcceptedCmp4         2240.0      0.074554      0.262728     0.0      0.00   \n",
       "AcceptedCmp5         2240.0      0.072768      0.259813     0.0      0.00   \n",
       "AcceptedCmp1         2240.0      0.064286      0.245316     0.0      0.00   \n",
       "AcceptedCmp2         2240.0      0.013393      0.114976     0.0      0.00   \n",
       "Complain             2240.0      0.009375      0.096391     0.0      0.00   \n",
       "Z_CostContact        2240.0      3.000000      0.000000     3.0      3.00   \n",
       "Z_Revenue            2240.0     11.000000      0.000000    11.0     11.00   \n",
       "Response             2240.0      0.149107      0.356274     0.0      0.00   \n",
       "\n",
       "                         50%       75%       max  \n",
       "Year_Birth            1970.0   1977.00    1996.0  \n",
       "Income               51381.5  68522.00  666666.0  \n",
       "Kidhome                  0.0      1.00       2.0  \n",
       "Teenhome                 0.0      1.00       2.0  \n",
       "Recency                 49.0     74.00      99.0  \n",
       "MntWines               173.5    504.25    1493.0  \n",
       "MntFruits                8.0     33.00     199.0  \n",
       "MntMeatProducts         67.0    232.00    1725.0  \n",
       "MntFishProducts         12.0     50.00     259.0  \n",
       "MntSweetProducts         8.0     33.00     263.0  \n",
       "MntGoldProds            24.0     56.00     362.0  \n",
       "NumDealsPurchases        2.0      3.00      15.0  \n",
       "NumWebPurchases          4.0      6.00      27.0  \n",
       "NumCatalogPurchases      2.0      4.00      28.0  \n",
       "NumStorePurchases        5.0      8.00      13.0  \n",
       "NumWebVisitsMonth        6.0      7.00      20.0  \n",
       "AcceptedCmp3             0.0      0.00       1.0  \n",
       "AcceptedCmp4             0.0      0.00       1.0  \n",
       "AcceptedCmp5             0.0      0.00       1.0  \n",
       "AcceptedCmp1             0.0      0.00       1.0  \n",
       "AcceptedCmp2             0.0      0.00       1.0  \n",
       "Complain                 0.0      0.00       1.0  \n",
       "Z_CostContact            3.0      3.00       3.0  \n",
       "Z_Revenue               11.0     11.00      11.0  \n",
       "Response                 0.0      0.00       1.0  "
      ]
     },
     "execution_count": 197,
     "metadata": {},
     "output_type": "execute_result"
    }
   ],
   "source": [
    "df.describe().T"
   ]
  },
  {
   "cell_type": "markdown",
   "metadata": {},
   "source": [
    "## Handling Missing Values"
   ]
  },
  {
   "cell_type": "code",
   "execution_count": 198,
   "metadata": {},
   "outputs": [
    {
     "name": "stdout",
     "output_type": "stream",
     "text": [
      "Column: Income having 24 missing values\n"
     ]
    }
   ],
   "source": [
    "null_col = df.isnull().sum()\n",
    "null_col = null_col[null_col>0]\n",
    "print(f'Column: {null_col.index[0]} having {null_col.values[0]} missing values')"
   ]
  },
  {
   "cell_type": "code",
   "execution_count": 199,
   "metadata": {},
   "outputs": [],
   "source": [
    "df['Income'] = df['Income'].fillna(df['Income'].mean())"
   ]
  },
  {
   "cell_type": "code",
   "execution_count": 200,
   "metadata": {},
   "outputs": [
    {
     "data": {
      "text/plain": [
       "0"
      ]
     },
     "execution_count": 200,
     "metadata": {},
     "output_type": "execute_result"
    }
   ],
   "source": [
    "df['Income'].isnull().sum()"
   ]
  },
  {
   "cell_type": "markdown",
   "metadata": {},
   "source": [
    "## Outlier detection"
   ]
  },
  {
   "cell_type": "code",
   "execution_count": 201,
   "metadata": {},
   "outputs": [
    {
     "data": {
      "image/png": "[encoded data removed]",
      "text/plain": [
       "<Figure size 1152x360 with 1 Axes>"
      ]
     },
     "metadata": {},
     "output_type": "display_data"
    }
   ],
   "source": [
    "import warnings\n",
    "warnings.filterwarnings('ignore')\n",
    "plt.figure(figsize=(16,5))\n",
    "plt.subplot(1,2,1)\n",
    "sns.distplot(df['Income'])\n",
    "plt.show()"
   ]
  },
  {
   "cell_type": "code",
   "execution_count": 202,
   "metadata": {},
   "outputs": [
    {
     "data": {
      "text/plain": [
       "<AxesSubplot:xlabel='Income'>"
      ]
     },
     "execution_count": 202,
     "metadata": {},
     "output_type": "execute_result"
    },
    {
     "data": {
      "image/png": "[encoded data removed]",
      "text/plain": [
       "<Figure size 576x396 with 1 Axes>"
      ]
     },
     "metadata": {},
     "output_type": "display_data"
    }
   ],
   "source": [
    "sns.boxplot(df['Income'])"
   ]
  },
  {
   "cell_type": "code",
   "execution_count": 203,
   "metadata": {},
   "outputs": [
    {
     "data": {
      "text/plain": [
       "array([  1730.,   2447.,   3502., ..., 160803., 162397., 666666.])"
      ]
     },
     "execution_count": 203,
     "metadata": {},
     "output_type": "execute_result"
    }
   ],
   "source": [
    "income_sort = np.sort(df['Income'])\n",
    "income_sort"
   ]
  },
  {
   "cell_type": "code",
   "execution_count": 204,
   "metadata": {},
   "outputs": [
    {
     "name": "stdout",
     "output_type": "stream",
     "text": [
      "Q1 25 percentile of the given data is: 35544.0\n",
      "Q1 50 percentile of the given data is: 51766.0\n",
      "Q1 75 percentile of the given data is: 68281.0\n",
      "Interquartile range is 32737.0\n"
     ]
    }
   ],
   "source": [
    "Q1 = np.percentile(income_sort, 25, interpolation='nearest') \n",
    "Q2 = np.percentile(income_sort, 50, interpolation='nearest') \n",
    "Q3 = np.percentile(income_sort, 75, interpolation='nearest')\n",
    "\n",
    "print('Q1 25 percentile of the given data is:', Q1)\n",
    "print('Q1 50 percentile of the given data is:', Q2)\n",
    "print('Q1 75 percentile of the given data is:', Q3)\n",
    "  \n",
    "IQR = Q3 - Q1 \n",
    "print('Interquartile range is', IQR)"
   ]
  },
  {
   "cell_type": "code",
   "execution_count": 205,
   "metadata": {},
   "outputs": [
    {
     "name": "stdout",
     "output_type": "stream",
     "text": [
      "low_limit is: -13561.5\n",
      "up_limit is: 117386.5\n"
     ]
    }
   ],
   "source": [
    "low_lim = Q1 - 1.5 * IQR\n",
    "up_lim = Q3 + 1.5 * IQR\n",
    "print('low_limit is:', low_lim)\n",
    "print('up_limit is:', up_lim)"
   ]
  },
  {
   "cell_type": "code",
   "execution_count": 206,
   "metadata": {},
   "outputs": [
    {
     "name": "stdout",
     "output_type": "stream",
     "text": [
      "Outliers in Income are [153924.0, 156924.0, 157146.0, 157243.0, 157733.0, 160803.0, 162397.0, 666666.0]\n",
      "Number of Outliers in Income are: 8\n"
     ]
    }
   ],
   "source": [
    "outlier=[]\n",
    "for x in income_sort:\n",
    "    if ((x>up_lim) or (x<low_lim)):\n",
    "        outlier.append(x)\n",
    "print(f'Outliers in Income are {outlier}')\n",
    "print(f'Number of Outliers in Income are: {len(outlier)}')"
   ]
  },
  {
   "cell_type": "markdown",
   "metadata": {},
   "source": [
    "## Feature Engineering\n"
   ]
  },
  {
   "cell_type": "code",
   "execution_count": 216,
   "metadata": {},
   "outputs": [],
   "source": [
    "# Calculated present age of the customer from the birth year column\n",
    "df['Age'] = int(pd.datetime.now().year) - df['Year_Birth']"
   ]
  },
  {
   "cell_type": "code",
   "execution_count": 218,
   "metadata": {},
   "outputs": [],
   "source": [
    "df_Edu = pd.DataFrame(df['Education'].value_counts()).reset_index()\n",
    "df_Edu.columns = ['Education', 'Count']"
   ]
  },
  {
   "cell_type": "code",
   "execution_count": 219,
   "metadata": {},
   "outputs": [
    {
     "data": {
      "text/html": [
       "<div>\n",
       "<style scoped>\n",
       "    .dataframe tbody tr th:only-of-type {\n",
       "        vertical-align: middle;\n",
       "    }\n",
       "\n",
       "    .dataframe tbody tr th {\n",
       "        vertical-align: top;\n",
       "    }\n",
       "\n",
       "    .dataframe thead th {\n",
       "        text-align: right;\n",
       "    }\n",
       "</style>\n",
       "<table border=\"1\" class=\"dataframe\">\n",
       "  <thead>\n",
       "    <tr style=\"text-align: right;\">\n",
       "      <th></th>\n",
       "      <th>Education</th>\n",
       "      <th>Count</th>\n",
       "    </tr>\n",
       "  </thead>\n",
       "  <tbody>\n",
       "    <tr>\n",
       "      <th>0</th>\n",
       "      <td>Graduation</td>\n",
       "      <td>1127</td>\n",
       "    </tr>\n",
       "    <tr>\n",
       "      <th>1</th>\n",
       "      <td>PhD</td>\n",
       "      <td>486</td>\n",
       "    </tr>\n",
       "    <tr>\n",
       "      <th>2</th>\n",
       "      <td>Master</td>\n",
       "      <td>370</td>\n",
       "    </tr>\n",
       "    <tr>\n",
       "      <th>3</th>\n",
       "      <td>2n Cycle</td>\n",
       "      <td>203</td>\n",
       "    </tr>\n",
       "    <tr>\n",
       "      <th>4</th>\n",
       "      <td>Basic</td>\n",
       "      <td>54</td>\n",
       "    </tr>\n",
       "  </tbody>\n",
       "</table>\n",
       "</div>"
      ],
      "text/plain": [
       "    Education  Count\n",
       "0  Graduation   1127\n",
       "1         PhD    486\n",
       "2      Master    370\n",
       "3    2n Cycle    203\n",
       "4       Basic     54"
      ]
     },
     "execution_count": 219,
     "metadata": {},
     "output_type": "execute_result"
    }
   ],
   "source": [
    "df_Edu"
   ]
  },
  {
   "cell_type": "code",
   "execution_count": 227,
   "metadata": {},
   "outputs": [
    {
     "data": {
      "application/vnd.plotly.v1+json": {
       "config": {
        "plotlyServerURL": "https://plot.ly"
       },
       "data": [
        {
         "alignmentgroup": "True",
         "hovertemplate": "Education=%{x}<br>Count=%{y}<extra></extra>",
         "legendgroup": "Graduation",
         "marker": {
          "color": "#636efa"
         },
         "name": "Graduation",
         "offsetgroup": "Graduation",
         "orientation": "v",
         "showlegend": true,
         "textposition": "auto",
         "type": "bar",
         "x": [
          "Graduation"
         ],
         "xaxis": "x",
         "y": [
          1127
         ],
         "yaxis": "y"
        },
        {
         "alignmentgroup": "True",
         "hovertemplate": "Education=%{x}<br>Count=%{y}<extra></extra>",
         "legendgroup": "PhD",
         "marker": {
          "color": "#EF553B"
         },
         "name": "PhD",
         "offsetgroup": "PhD",
         "orientation": "v",
         "showlegend": true,
         "textposition": "auto",
         "type": "bar",
         "x": [
          "PhD"
         ],
         "xaxis": "x",
         "y": [
          486
         ],
         "yaxis": "y"
        },
        {
         "alignmentgroup": "True",
         "hovertemplate": "Education=%{x}<br>Count=%{y}<extra></extra>",
         "legendgroup": "Master",
         "marker": {
          "color": "#00cc96"
         },
         "name": "Master",
         "offsetgroup": "Master",
         "orientation": "v",
         "showlegend": true,
         "textposition": "auto",
         "type": "bar",
         "x": [
          "Master"
         ],
         "xaxis": "x",
         "y": [
          370
         ],
         "yaxis": "y"
        },
        {
         "alignmentgroup": "True",
         "hovertemplate": "Education=%{x}<br>Count=%{y}<extra></extra>",
         "legendgroup": "2n Cycle",
         "marker": {
          "color": "#ab63fa"
         },
         "name": "2n Cycle",
         "offsetgroup": "2n Cycle",
         "orientation": "v",
         "showlegend": true,
         "textposition": "auto",
         "type": "bar",
         "x": [
          "2n Cycle"
         ],
         "xaxis": "x",
         "y": [
          203
         ],
         "yaxis": "y"
        },
        {
         "alignmentgroup": "True",
         "hovertemplate": "Education=%{x}<br>Count=%{y}<extra></extra>",
         "legendgroup": "Basic",
         "marker": {
          "color": "#FFA15A"
         },
         "name": "Basic",
         "offsetgroup": "Basic",
         "orientation": "v",
         "showlegend": true,
         "textposition": "auto",
         "type": "bar",
         "x": [
          "Basic"
         ],
         "xaxis": "x",
         "y": [
          54
         ],
         "yaxis": "y"
        }
       ],
       "layout": {
        "barmode": "relative",
        "height": 300,
        "legend": {
         "title": {
          "text": "Education"
         },
         "tracegroupgap": 0
        },
        "margin": {
         "t": 60
        },
        "template": {
         "data": {
          "bar": [
           {
            "error_x": {
             "color": "#2a3f5f"
            },
            "error_y": {
             "color": "#2a3f5f"
            },
            "marker": {
             "line": {
              "color": "#E5ECF6",
              "width": 0.5
             }
            },
            "type": "bar"
           }
          ],
          "barpolar": [
           {
            "marker": {
             "line": {
              "color": "#E5ECF6",
              "width": 0.5
             }
            },
            "type": "barpolar"
           }
          ],
          "carpet": [
           {
            "aaxis": {
             "endlinecolor": "#2a3f5f",
             "gridcolor": "white",
             "linecolor": "white",
             "minorgridcolor": "white",
             "startlinecolor": "#2a3f5f"
            },
            "baxis": {
             "endlinecolor": "#2a3f5f",
             "gridcolor": "white",
             "linecolor": "white",
             "minorgridcolor": "white",
             "startlinecolor": "#2a3f5f"
            },
            "type": "carpet"
           }
          ],
          "choropleth": [
           {
            "colorbar": {
             "outlinewidth": 0,
             "ticks": ""
            },
            "type": "choropleth"
           }
          ],
          "contour": [
           {
            "colorbar": {
             "outlinewidth": 0,
             "ticks": ""
            },
            "colorscale": [
             [
              0,
              "#0d0887"
             ],
             [
              0.1111111111111111,
              "#46039f"
             ],
             [
              0.2222222222222222,
              "#7201a8"
             ],
             [
              0.3333333333333333,
              "#9c179e"
             ],
             [
              0.4444444444444444,
              "#bd3786"
             ],
             [
              0.5555555555555556,
              "#d8576b"
             ],
             [
              0.6666666666666666,
              "#ed7953"
             ],
             [
              0.7777777777777778,
              "#fb9f3a"
             ],
             [
              0.8888888888888888,
              "#fdca26"
             ],
             [
              1,
              "#f0f921"
             ]
            ],
            "type": "contour"
           }
          ],
          "contourcarpet": [
           {
            "colorbar": {
             "outlinewidth": 0,
             "ticks": ""
            },
            "type": "contourcarpet"
           }
          ],
          "heatmap": [
           {
            "colorbar": {
             "outlinewidth": 0,
             "ticks": ""
            },
            "colorscale": [
             [
              0,
              "#0d0887"
             ],
             [
              0.1111111111111111,
              "#46039f"
             ],
             [
              0.2222222222222222,
              "#7201a8"
             ],
             [
              0.3333333333333333,
              "#9c179e"
             ],
             [
              0.4444444444444444,
              "#bd3786"
             ],
             [
              0.5555555555555556,
              "#d8576b"
             ],
             [
              0.6666666666666666,
              "#ed7953"
             ],
             [
              0.7777777777777778,
              "#fb9f3a"
             ],
             [
              0.8888888888888888,
              "#fdca26"
             ],
             [
              1,
              "#f0f921"
             ]
            ],
            "type": "heatmap"
           }
          ],
          "heatmapgl": [
           {
            "colorbar": {
             "outlinewidth": 0,
             "ticks": ""
            },
            "colorscale": [
             [
              0,
              "#0d0887"
             ],
             [
              0.1111111111111111,
              "#46039f"
             ],
             [
              0.2222222222222222,
              "#7201a8"
             ],
             [
              0.3333333333333333,
              "#9c179e"
             ],
             [
              0.4444444444444444,
              "#bd3786"
             ],
             [
              0.5555555555555556,
              "#d8576b"
             ],
             [
              0.6666666666666666,
              "#ed7953"
             ],
             [
              0.7777777777777778,
              "#fb9f3a"
             ],
             [
              0.8888888888888888,
              "#fdca26"
             ],
             [
              1,
              "#f0f921"
             ]
            ],
            "type": "heatmapgl"
           }
          ],
          "histogram": [
           {
            "marker": {
             "colorbar": {
              "outlinewidth": 0,
              "ticks": ""
             }
            },
            "type": "histogram"
           }
          ],
          "histogram2d": [
           {
            "colorbar": {
             "outlinewidth": 0,
             "ticks": ""
            },
            "colorscale": [
             [
              0,
              "#0d0887"
             ],
             [
              0.1111111111111111,
              "#46039f"
             ],
             [
              0.2222222222222222,
              "#7201a8"
             ],
             [
              0.3333333333333333,
              "#9c179e"
             ],
             [
              0.4444444444444444,
              "#bd3786"
             ],
             [
              0.5555555555555556,
              "#d8576b"
             ],
             [
              0.6666666666666666,
              "#ed7953"
             ],
             [
              0.7777777777777778,
              "#fb9f3a"
             ],
             [
              0.8888888888888888,
              "#fdca26"
             ],
             [
              1,
              "#f0f921"
             ]
            ],
            "type": "histogram2d"
           }
          ],
          "histogram2dcontour": [
           {
            "colorbar": {
             "outlinewidth": 0,
             "ticks": ""
            },
            "colorscale": [
             [
              0,
              "#0d0887"
             ],
             [
              0.1111111111111111,
              "#46039f"
             ],
             [
              0.2222222222222222,
              "#7201a8"
             ],
             [
              0.3333333333333333,
              "#9c179e"
             ],
             [
              0.4444444444444444,
              "#bd3786"
             ],
             [
              0.5555555555555556,
              "#d8576b"
             ],
             [
              0.6666666666666666,
              "#ed7953"
             ],
             [
              0.7777777777777778,
              "#fb9f3a"
             ],
             [
              0.8888888888888888,
              "#fdca26"
             ],
             [
              1,
              "#f0f921"
             ]
            ],
            "type": "histogram2dcontour"
           }
          ],
          "mesh3d": [
           {
            "colorbar": {
             "outlinewidth": 0,
             "ticks": ""
            },
            "type": "mesh3d"
           }
          ],
          "parcoords": [
           {
            "line": {
             "colorbar": {
              "outlinewidth": 0,
              "ticks": ""
             }
            },
            "type": "parcoords"
           }
          ],
          "pie": [
           {
            "automargin": true,
            "type": "pie"
           }
          ],
          "scatter": [
           {
            "marker": {
             "colorbar": {
              "outlinewidth": 0,
              "ticks": ""
             }
            },
            "type": "scatter"
           }
          ],
          "scatter3d": [
           {
            "line": {
             "colorbar": {
              "outlinewidth": 0,
              "ticks": ""
             }
            },
            "marker": {
             "colorbar": {
              "outlinewidth": 0,
              "ticks": ""
             }
            },
            "type": "scatter3d"
           }
          ],
          "scattercarpet": [
           {
            "marker": {
             "colorbar": {
              "outlinewidth": 0,
              "ticks": ""
             }
            },
            "type": "scattercarpet"
           }
          ],
          "scattergeo": [
           {
            "marker": {
             "colorbar": {
              "outlinewidth": 0,
              "ticks": ""
             }
            },
            "type": "scattergeo"
           }
          ],
          "scattergl": [
           {
            "marker": {
             "colorbar": {
              "outlinewidth": 0,
              "ticks": ""
             }
            },
            "type": "scattergl"
           }
          ],
          "scattermapbox": [
           {
            "marker": {
             "colorbar": {
              "outlinewidth": 0,
              "ticks": ""
             }
            },
            "type": "scattermapbox"
           }
          ],
          "scatterpolar": [
           {
            "marker": {
             "colorbar": {
              "outlinewidth": 0,
              "ticks": ""
             }
            },
            "type": "scatterpolar"
           }
          ],
          "scatterpolargl": [
           {
            "marker": {
             "colorbar": {
              "outlinewidth": 0,
              "ticks": ""
             }
            },
            "type": "scatterpolargl"
           }
          ],
          "scatterternary": [
           {
            "marker": {
             "colorbar": {
              "outlinewidth": 0,
              "ticks": ""
             }
            },
            "type": "scatterternary"
           }
          ],
          "surface": [
           {
            "colorbar": {
             "outlinewidth": 0,
             "ticks": ""
            },
            "colorscale": [
             [
              0,
              "#0d0887"
             ],
             [
              0.1111111111111111,
              "#46039f"
             ],
             [
              0.2222222222222222,
              "#7201a8"
             ],
             [
              0.3333333333333333,
              "#9c179e"
             ],
             [
              0.4444444444444444,
              "#bd3786"
             ],
             [
              0.5555555555555556,
              "#d8576b"
             ],
             [
              0.6666666666666666,
              "#ed7953"
             ],
             [
              0.7777777777777778,
              "#fb9f3a"
             ],
             [
              0.8888888888888888,
              "#fdca26"
             ],
             [
              1,
              "#f0f921"
             ]
            ],
            "type": "surface"
           }
          ],
          "table": [
           {
            "cells": {
             "fill": {
              "color": "#EBF0F8"
             },
             "line": {
              "color": "white"
             }
            },
            "header": {
             "fill": {
              "color": "#C8D4E3"
             },
             "line": {
              "color": "white"
             }
            },
            "type": "table"
           }
          ]
         },
         "layout": {
          "annotationdefaults": {
           "arrowcolor": "#2a3f5f",
           "arrowhead": 0,
           "arrowwidth": 1
          },
          "autotypenumbers": "strict",
          "coloraxis": {
           "colorbar": {
            "outlinewidth": 0,
            "ticks": ""
           }
          },
          "colorscale": {
           "diverging": [
            [
             0,
             "#8e0152"
            ],
            [
             0.1,
             "#c51b7d"
            ],
            [
             0.2,
             "#de77ae"
            ],
            [
             0.3,
             "#f1b6da"
            ],
            [
             0.4,
             "#fde0ef"
            ],
            [
             0.5,
             "#f7f7f7"
            ],
            [
             0.6,
             "#e6f5d0"
            ],
            [
             0.7,
             "#b8e186"
            ],
            [
             0.8,
             "#7fbc41"
            ],
            [
             0.9,
             "#4d9221"
            ],
            [
             1,
             "#276419"
            ]
           ],
           "sequential": [
            [
             0,
             "#0d0887"
            ],
            [
             0.1111111111111111,
             "#46039f"
            ],
            [
             0.2222222222222222,
             "#7201a8"
            ],
            [
             0.3333333333333333,
             "#9c179e"
            ],
            [
             0.4444444444444444,
             "#bd3786"
            ],
            [
             0.5555555555555556,
             "#d8576b"
            ],
            [
             0.6666666666666666,
             "#ed7953"
            ],
            [
             0.7777777777777778,
             "#fb9f3a"
            ],
            [
             0.8888888888888888,
             "#fdca26"
            ],
            [
             1,
             "#f0f921"
            ]
           ],
           "sequentialminus": [
            [
             0,
             "#0d0887"
            ],
            [
             0.1111111111111111,
             "#46039f"
            ],
            [
             0.2222222222222222,
             "#7201a8"
            ],
            [
             0.3333333333333333,
             "#9c179e"
            ],
            [
             0.4444444444444444,
             "#bd3786"
            ],
            [
             0.5555555555555556,
             "#d8576b"
            ],
            [
             0.6666666666666666,
             "#ed7953"
            ],
            [
             0.7777777777777778,
             "#fb9f3a"
            ],
            [
             0.8888888888888888,
             "#fdca26"
            ],
            [
             1,
             "#f0f921"
            ]
           ]
          },
          "colorway": [
           "#636efa",
           "#EF553B",
           "#00cc96",
           "#ab63fa",
           "#FFA15A",
           "#19d3f3",
           "#FF6692",
           "#B6E880",
           "#FF97FF",
           "#FECB52"
          ],
          "font": {
           "color": "#2a3f5f"
          },
          "geo": {
           "bgcolor": "white",
           "lakecolor": "white",
           "landcolor": "#E5ECF6",
           "showlakes": true,
           "showland": true,
           "subunitcolor": "white"
          },
          "hoverlabel": {
           "align": "left"
          },
          "hovermode": "closest",
          "mapbox": {
           "style": "light"
          },
          "paper_bgcolor": "white",
          "plot_bgcolor": "#E5ECF6",
          "polar": {
           "angularaxis": {
            "gridcolor": "white",
            "linecolor": "white",
            "ticks": ""
           },
           "bgcolor": "#E5ECF6",
           "radialaxis": {
            "gridcolor": "white",
            "linecolor": "white",
            "ticks": ""
           }
          },
          "scene": {
           "xaxis": {
            "backgroundcolor": "#E5ECF6",
            "gridcolor": "white",
            "gridwidth": 2,
            "linecolor": "white",
            "showbackground": true,
            "ticks": "",
            "zerolinecolor": "white"
           },
           "yaxis": {
            "backgroundcolor": "#E5ECF6",
            "gridcolor": "white",
            "gridwidth": 2,
            "linecolor": "white",
            "showbackground": true,
            "ticks": "",
            "zerolinecolor": "white"
           },
           "zaxis": {
            "backgroundcolor": "#E5ECF6",
            "gridcolor": "white",
            "gridwidth": 2,
            "linecolor": "white",
            "showbackground": true,
            "ticks": "",
            "zerolinecolor": "white"
           }
          },
          "shapedefaults": {
           "line": {
            "color": "#2a3f5f"
           }
          },
          "ternary": {
           "aaxis": {
            "gridcolor": "white",
            "linecolor": "white",
            "ticks": ""
           },
           "baxis": {
            "gridcolor": "white",
            "linecolor": "white",
            "ticks": ""
           },
           "bgcolor": "#E5ECF6",
           "caxis": {
            "gridcolor": "white",
            "linecolor": "white",
            "ticks": ""
           }
          },
          "title": {
           "x": 0.05
          },
          "xaxis": {
           "automargin": true,
           "gridcolor": "white",
           "linecolor": "white",
           "ticks": "",
           "title": {
            "standoff": 15
           },
           "zerolinecolor": "white",
           "zerolinewidth": 2
          },
          "yaxis": {
           "automargin": true,
           "gridcolor": "white",
           "linecolor": "white",
           "ticks": "",
           "title": {
            "standoff": 15
           },
           "zerolinecolor": "white",
           "zerolinewidth": 2
          }
         }
        },
        "title": {
         "text": "Education "
        },
        "width": 600,
        "xaxis": {
         "anchor": "y",
         "categoryarray": [
          "Graduation",
          "PhD",
          "Master",
          "2n Cycle",
          "Basic"
         ],
         "categoryorder": "array",
         "domain": [
          0,
          1
         ],
         "title": {
          "text": "Education"
         }
        },
        "yaxis": {
         "anchor": "x",
         "domain": [
          0,
          1
         ],
         "title": {
          "text": "Count"
         }
        }
       }
      },
      "text/html": [
       "<div>                            <div id=\"ab62d490-2218-4be4-af79-72766fdfb58a\" class=\"plotly-graph-div\" style=\"height:300px; width:600px;\"></div>            <script type=\"text/javascript\">                require([\"plotly\"], function(Plotly) {                    window.PLOTLYENV=window.PLOTLYENV || {};                                    if (document.getElementById(\"ab62d490-2218-4be4-af79-72766fdfb58a\")) {                    Plotly.newPlot(                        \"ab62d490-2218-4be4-af79-72766fdfb58a\",                        [{\"alignmentgroup\": \"True\", \"hovertemplate\": \"Education=%{x}<br>Count=%{y}<extra></extra>\", \"legendgroup\": \"Graduation\", \"marker\": {\"color\": \"#636efa\"}, \"name\": \"Graduation\", \"offsetgroup\": \"Graduation\", \"orientation\": \"v\", \"showlegend\": true, \"textposition\": \"auto\", \"type\": \"bar\", \"x\": [\"Graduation\"], \"xaxis\": \"x\", \"y\": [1127], \"yaxis\": \"y\"}, {\"alignmentgroup\": \"True\", \"hovertemplate\": \"Education=%{x}<br>Count=%{y}<extra></extra>\", \"legendgroup\": \"PhD\", \"marker\": {\"color\": \"#EF553B\"}, \"name\": \"PhD\", \"offsetgroup\": \"PhD\", \"orientation\": \"v\", \"showlegend\": true, \"textposition\": \"auto\", \"type\": \"bar\", \"x\": [\"PhD\"], \"xaxis\": \"x\", \"y\": [486], \"yaxis\": \"y\"}, {\"alignmentgroup\": \"True\", \"hovertemplate\": \"Education=%{x}<br>Count=%{y}<extra></extra>\", \"legendgroup\": \"Master\", \"marker\": {\"color\": \"#00cc96\"}, \"name\": \"Master\", \"offsetgroup\": \"Master\", \"orientation\": \"v\", \"showlegend\": true, \"textposition\": \"auto\", \"type\": \"bar\", \"x\": [\"Master\"], \"xaxis\": \"x\", \"y\": [370], \"yaxis\": \"y\"}, {\"alignmentgroup\": \"True\", \"hovertemplate\": \"Education=%{x}<br>Count=%{y}<extra></extra>\", \"legendgroup\": \"2n Cycle\", \"marker\": {\"color\": \"#ab63fa\"}, \"name\": \"2n Cycle\", \"offsetgroup\": \"2n Cycle\", \"orientation\": \"v\", \"showlegend\": true, \"textposition\": \"auto\", \"type\": \"bar\", \"x\": [\"2n Cycle\"], \"xaxis\": \"x\", \"y\": [203], \"yaxis\": \"y\"}, {\"alignmentgroup\": \"True\", \"hovertemplate\": \"Education=%{x}<br>Count=%{y}<extra></extra>\", \"legendgroup\": \"Basic\", \"marker\": {\"color\": \"#FFA15A\"}, \"name\": \"Basic\", \"offsetgroup\": \"Basic\", \"orientation\": \"v\", \"showlegend\": true, \"textposition\": \"auto\", \"type\": \"bar\", \"x\": [\"Basic\"], \"xaxis\": \"x\", \"y\": [54], \"yaxis\": \"y\"}],                        {\"barmode\": \"relative\", \"height\": 300, \"legend\": {\"title\": {\"text\": \"Education\"}, \"tracegroupgap\": 0}, \"margin\": {\"t\": 60}, \"template\": {\"data\": {\"bar\": [{\"error_x\": {\"color\": \"#2a3f5f\"}, \"error_y\": {\"color\": \"#2a3f5f\"}, \"marker\": {\"line\": {\"color\": \"#E5ECF6\", \"width\": 0.5}}, \"type\": \"bar\"}], \"barpolar\": [{\"marker\": {\"line\": {\"color\": \"#E5ECF6\", \"width\": 0.5}}, \"type\": \"barpolar\"}], \"carpet\": [{\"aaxis\": {\"endlinecolor\": \"#2a3f5f\", \"gridcolor\": \"white\", \"linecolor\": \"white\", \"minorgridcolor\": \"white\", \"startlinecolor\": \"#2a3f5f\"}, \"baxis\": {\"endlinecolor\": \"#2a3f5f\", \"gridcolor\": \"white\", \"linecolor\": \"white\", \"minorgridcolor\": \"white\", \"startlinecolor\": \"#2a3f5f\"}, \"type\": \"carpet\"}], \"choropleth\": [{\"colorbar\": {\"outlinewidth\": 0, \"ticks\": \"\"}, \"type\": \"choropleth\"}], \"contour\": [{\"colorbar\": {\"outlinewidth\": 0, \"ticks\": \"\"}, \"colorscale\": [[0.0, \"#0d0887\"], [0.1111111111111111, \"#46039f\"], [0.2222222222222222, \"#7201a8\"], [0.3333333333333333, \"#9c179e\"], [0.4444444444444444, \"#bd3786\"], [0.5555555555555556, \"#d8576b\"], [0.6666666666666666, \"#ed7953\"], [0.7777777777777778, \"#fb9f3a\"], [0.8888888888888888, \"#fdca26\"], [1.0, \"#f0f921\"]], \"type\": \"contour\"}], \"contourcarpet\": [{\"colorbar\": {\"outlinewidth\": 0, \"ticks\": \"\"}, \"type\": \"contourcarpet\"}], \"heatmap\": [{\"colorbar\": {\"outlinewidth\": 0, \"ticks\": \"\"}, \"colorscale\": [[0.0, \"#0d0887\"], [0.1111111111111111, \"#46039f\"], [0.2222222222222222, \"#7201a8\"], [0.3333333333333333, \"#9c179e\"], [0.4444444444444444, \"#bd3786\"], [0.5555555555555556, \"#d8576b\"], [0.6666666666666666, \"#ed7953\"], [0.7777777777777778, \"#fb9f3a\"], [0.8888888888888888, \"#fdca26\"], [1.0, \"#f0f921\"]], \"type\": \"heatmap\"}], \"heatmapgl\": [{\"colorbar\": {\"outlinewidth\": 0, \"ticks\": \"\"}, \"colorscale\": [[0.0, \"#0d0887\"], [0.1111111111111111, \"#46039f\"], [0.2222222222222222, \"#7201a8\"], [0.3333333333333333, \"#9c179e\"], [0.4444444444444444, \"#bd3786\"], [0.5555555555555556, \"#d8576b\"], [0.6666666666666666, \"#ed7953\"], [0.7777777777777778, \"#fb9f3a\"], [0.8888888888888888, \"#fdca26\"], [1.0, \"#f0f921\"]], \"type\": \"heatmapgl\"}], \"histogram\": [{\"marker\": {\"colorbar\": {\"outlinewidth\": 0, \"ticks\": \"\"}}, \"type\": \"histogram\"}], \"histogram2d\": [{\"colorbar\": {\"outlinewidth\": 0, \"ticks\": \"\"}, \"colorscale\": [[0.0, \"#0d0887\"], [0.1111111111111111, \"#46039f\"], [0.2222222222222222, \"#7201a8\"], [0.3333333333333333, \"#9c179e\"], [0.4444444444444444, \"#bd3786\"], [0.5555555555555556, \"#d8576b\"], [0.6666666666666666, \"#ed7953\"], [0.7777777777777778, \"#fb9f3a\"], [0.8888888888888888, \"#fdca26\"], [1.0, \"#f0f921\"]], \"type\": \"histogram2d\"}], \"histogram2dcontour\": [{\"colorbar\": {\"outlinewidth\": 0, \"ticks\": \"\"}, \"colorscale\": [[0.0, \"#0d0887\"], [0.1111111111111111, \"#46039f\"], [0.2222222222222222, \"#7201a8\"], [0.3333333333333333, \"#9c179e\"], [0.4444444444444444, \"#bd3786\"], [0.5555555555555556, \"#d8576b\"], [0.6666666666666666, \"#ed7953\"], [0.7777777777777778, \"#fb9f3a\"], [0.8888888888888888, \"#fdca26\"], [1.0, \"#f0f921\"]], \"type\": \"histogram2dcontour\"}], \"mesh3d\": [{\"colorbar\": {\"outlinewidth\": 0, \"ticks\": \"\"}, \"type\": \"mesh3d\"}], \"parcoords\": [{\"line\": {\"colorbar\": {\"outlinewidth\": 0, \"ticks\": \"\"}}, \"type\": \"parcoords\"}], \"pie\": [{\"automargin\": true, \"type\": \"pie\"}], \"scatter\": [{\"marker\": {\"colorbar\": {\"outlinewidth\": 0, \"ticks\": \"\"}}, \"type\": \"scatter\"}], \"scatter3d\": [{\"line\": {\"colorbar\": {\"outlinewidth\": 0, \"ticks\": \"\"}}, \"marker\": {\"colorbar\": {\"outlinewidth\": 0, \"ticks\": \"\"}}, \"type\": \"scatter3d\"}], \"scattercarpet\": [{\"marker\": {\"colorbar\": {\"outlinewidth\": 0, \"ticks\": \"\"}}, \"type\": \"scattercarpet\"}], \"scattergeo\": [{\"marker\": {\"colorbar\": {\"outlinewidth\": 0, \"ticks\": \"\"}}, \"type\": \"scattergeo\"}], \"scattergl\": [{\"marker\": {\"colorbar\": {\"outlinewidth\": 0, \"ticks\": \"\"}}, \"type\": \"scattergl\"}], \"scattermapbox\": [{\"marker\": {\"colorbar\": {\"outlinewidth\": 0, \"ticks\": \"\"}}, \"type\": \"scattermapbox\"}], \"scatterpolar\": [{\"marker\": {\"colorbar\": {\"outlinewidth\": 0, \"ticks\": \"\"}}, \"type\": \"scatterpolar\"}], \"scatterpolargl\": [{\"marker\": {\"colorbar\": {\"outlinewidth\": 0, \"ticks\": \"\"}}, \"type\": \"scatterpolargl\"}], \"scatterternary\": [{\"marker\": {\"colorbar\": {\"outlinewidth\": 0, \"ticks\": \"\"}}, \"type\": \"scatterternary\"}], \"surface\": [{\"colorbar\": {\"outlinewidth\": 0, \"ticks\": \"\"}, \"colorscale\": [[0.0, \"#0d0887\"], [0.1111111111111111, \"#46039f\"], [0.2222222222222222, \"#7201a8\"], [0.3333333333333333, \"#9c179e\"], [0.4444444444444444, \"#bd3786\"], [0.5555555555555556, \"#d8576b\"], [0.6666666666666666, \"#ed7953\"], [0.7777777777777778, \"#fb9f3a\"], [0.8888888888888888, \"#fdca26\"], [1.0, \"#f0f921\"]], \"type\": \"surface\"}], \"table\": [{\"cells\": {\"fill\": {\"color\": \"#EBF0F8\"}, \"line\": {\"color\": \"white\"}}, \"header\": {\"fill\": {\"color\": \"#C8D4E3\"}, \"line\": {\"color\": \"white\"}}, \"type\": \"table\"}]}, \"layout\": {\"annotationdefaults\": {\"arrowcolor\": \"#2a3f5f\", \"arrowhead\": 0, \"arrowwidth\": 1}, \"autotypenumbers\": \"strict\", \"coloraxis\": {\"colorbar\": {\"outlinewidth\": 0, \"ticks\": \"\"}}, \"colorscale\": {\"diverging\": [[0, \"#8e0152\"], [0.1, \"#c51b7d\"], [0.2, \"#de77ae\"], [0.3, \"#f1b6da\"], [0.4, \"#fde0ef\"], [0.5, \"#f7f7f7\"], [0.6, \"#e6f5d0\"], [0.7, \"#b8e186\"], [0.8, \"#7fbc41\"], [0.9, \"#4d9221\"], [1, \"#276419\"]], \"sequential\": [[0.0, \"#0d0887\"], [0.1111111111111111, \"#46039f\"], [0.2222222222222222, \"#7201a8\"], [0.3333333333333333, \"#9c179e\"], [0.4444444444444444, \"#bd3786\"], [0.5555555555555556, \"#d8576b\"], [0.6666666666666666, \"#ed7953\"], [0.7777777777777778, \"#fb9f3a\"], [0.8888888888888888, \"#fdca26\"], [1.0, \"#f0f921\"]], \"sequentialminus\": [[0.0, \"#0d0887\"], [0.1111111111111111, \"#46039f\"], [0.2222222222222222, \"#7201a8\"], [0.3333333333333333, \"#9c179e\"], [0.4444444444444444, \"#bd3786\"], [0.5555555555555556, \"#d8576b\"], [0.6666666666666666, \"#ed7953\"], [0.7777777777777778, \"#fb9f3a\"], [0.8888888888888888, \"#fdca26\"], [1.0, \"#f0f921\"]]}, \"colorway\": [\"#636efa\", \"#EF553B\", \"#00cc96\", \"#ab63fa\", \"#FFA15A\", \"#19d3f3\", \"#FF6692\", \"#B6E880\", \"#FF97FF\", \"#FECB52\"], \"font\": {\"color\": \"#2a3f5f\"}, \"geo\": {\"bgcolor\": \"white\", \"lakecolor\": \"white\", \"landcolor\": \"#E5ECF6\", \"showlakes\": true, \"showland\": true, \"subunitcolor\": \"white\"}, \"hoverlabel\": {\"align\": \"left\"}, \"hovermode\": \"closest\", \"mapbox\": {\"style\": \"light\"}, \"paper_bgcolor\": \"white\", \"plot_bgcolor\": \"#E5ECF6\", \"polar\": {\"angularaxis\": {\"gridcolor\": \"white\", \"linecolor\": \"white\", \"ticks\": \"\"}, \"bgcolor\": \"#E5ECF6\", \"radialaxis\": {\"gridcolor\": \"white\", \"linecolor\": \"white\", \"ticks\": \"\"}}, \"scene\": {\"xaxis\": {\"backgroundcolor\": \"#E5ECF6\", \"gridcolor\": \"white\", \"gridwidth\": 2, \"linecolor\": \"white\", \"showbackground\": true, \"ticks\": \"\", \"zerolinecolor\": \"white\"}, \"yaxis\": {\"backgroundcolor\": \"#E5ECF6\", \"gridcolor\": \"white\", \"gridwidth\": 2, \"linecolor\": \"white\", \"showbackground\": true, \"ticks\": \"\", \"zerolinecolor\": \"white\"}, \"zaxis\": {\"backgroundcolor\": \"#E5ECF6\", \"gridcolor\": \"white\", \"gridwidth\": 2, \"linecolor\": \"white\", \"showbackground\": true, \"ticks\": \"\", \"zerolinecolor\": \"white\"}}, \"shapedefaults\": {\"line\": {\"color\": \"#2a3f5f\"}}, \"ternary\": {\"aaxis\": {\"gridcolor\": \"white\", \"linecolor\": \"white\", \"ticks\": \"\"}, \"baxis\": {\"gridcolor\": \"white\", \"linecolor\": \"white\", \"ticks\": \"\"}, \"bgcolor\": \"#E5ECF6\", \"caxis\": {\"gridcolor\": \"white\", \"linecolor\": \"white\", \"ticks\": \"\"}}, \"title\": {\"x\": 0.05}, \"xaxis\": {\"automargin\": true, \"gridcolor\": \"white\", \"linecolor\": \"white\", \"ticks\": \"\", \"title\": {\"standoff\": 15}, \"zerolinecolor\": \"white\", \"zerolinewidth\": 2}, \"yaxis\": {\"automargin\": true, \"gridcolor\": \"white\", \"linecolor\": \"white\", \"ticks\": \"\", \"title\": {\"standoff\": 15}, \"zerolinecolor\": \"white\", \"zerolinewidth\": 2}}}, \"title\": {\"text\": \"Education \"}, \"width\": 600, \"xaxis\": {\"anchor\": \"y\", \"categoryarray\": [\"Graduation\", \"PhD\", \"Master\", \"2n Cycle\", \"Basic\"], \"categoryorder\": \"array\", \"domain\": [0.0, 1.0], \"title\": {\"text\": \"Education\"}}, \"yaxis\": {\"anchor\": \"x\", \"domain\": [0.0, 1.0], \"title\": {\"text\": \"Count\"}}},                        {\"responsive\": true}                    ).then(function(){\n",
       "                            \n",
       "var gd = document.getElementById('ab62d490-2218-4be4-af79-72766fdfb58a');\n",
       "var x = new MutationObserver(function (mutations, observer) {{\n",
       "        var display = window.getComputedStyle(gd).display;\n",
       "        if (!display || display === 'none') {{\n",
       "            console.log([gd, 'removed!']);\n",
       "            Plotly.purge(gd);\n",
       "            observer.disconnect();\n",
       "        }}\n",
       "}});\n",
       "\n",
       "// Listen for the removal of the full notebook cells\n",
       "var notebookContainer = gd.closest('#notebook-container');\n",
       "if (notebookContainer) {{\n",
       "    x.observe(notebookContainer, {childList: true});\n",
       "}}\n",
       "\n",
       "// Listen for the clearing of the current output cell\n",
       "var outputEl = gd.closest('.output');\n",
       "if (outputEl) {{\n",
       "    x.observe(outputEl, {childList: true});\n",
       "}}\n",
       "\n",
       "                        })                };                });            </script>        </div>"
      ]
     },
     "metadata": {},
     "output_type": "display_data"
    }
   ],
   "source": [
    "fig = px.bar(df_Edu, x='Education', y='Count', color='Education')\n",
    "fig.update_layout(width=600, height=300, title='Education ')\n",
    "fig.show()"
   ]
  },
  {
   "cell_type": "code",
   "execution_count": 239,
   "metadata": {},
   "outputs": [],
   "source": [
    "df_mar = pd.DataFrame(df['Marital_Status'].value_counts()).reset_index()\n",
    "df_mar.columns = ['Marital Status','Count']"
   ]
  },
  {
   "cell_type": "code",
   "execution_count": 240,
   "metadata": {},
   "outputs": [
    {
     "data": {
      "text/html": [
       "<div>\n",
       "<style scoped>\n",
       "    .dataframe tbody tr th:only-of-type {\n",
       "        vertical-align: middle;\n",
       "    }\n",
       "\n",
       "    .dataframe tbody tr th {\n",
       "        vertical-align: top;\n",
       "    }\n",
       "\n",
       "    .dataframe thead th {\n",
       "        text-align: right;\n",
       "    }\n",
       "</style>\n",
       "<table border=\"1\" class=\"dataframe\">\n",
       "  <thead>\n",
       "    <tr style=\"text-align: right;\">\n",
       "      <th></th>\n",
       "      <th>Marital Status</th>\n",
       "      <th>Count</th>\n",
       "    </tr>\n",
       "  </thead>\n",
       "  <tbody>\n",
       "    <tr>\n",
       "      <th>0</th>\n",
       "      <td>Married</td>\n",
       "      <td>864</td>\n",
       "    </tr>\n",
       "    <tr>\n",
       "      <th>1</th>\n",
       "      <td>Together</td>\n",
       "      <td>580</td>\n",
       "    </tr>\n",
       "    <tr>\n",
       "      <th>2</th>\n",
       "      <td>Single</td>\n",
       "      <td>480</td>\n",
       "    </tr>\n",
       "    <tr>\n",
       "      <th>3</th>\n",
       "      <td>Divorced</td>\n",
       "      <td>232</td>\n",
       "    </tr>\n",
       "    <tr>\n",
       "      <th>4</th>\n",
       "      <td>Widow</td>\n",
       "      <td>77</td>\n",
       "    </tr>\n",
       "    <tr>\n",
       "      <th>5</th>\n",
       "      <td>Alone</td>\n",
       "      <td>3</td>\n",
       "    </tr>\n",
       "    <tr>\n",
       "      <th>6</th>\n",
       "      <td>Absurd</td>\n",
       "      <td>2</td>\n",
       "    </tr>\n",
       "    <tr>\n",
       "      <th>7</th>\n",
       "      <td>YOLO</td>\n",
       "      <td>2</td>\n",
       "    </tr>\n",
       "  </tbody>\n",
       "</table>\n",
       "</div>"
      ],
      "text/plain": [
       "  Marital Status  Count\n",
       "0        Married    864\n",
       "1       Together    580\n",
       "2         Single    480\n",
       "3       Divorced    232\n",
       "4          Widow     77\n",
       "5          Alone      3\n",
       "6         Absurd      2\n",
       "7           YOLO      2"
      ]
     },
     "execution_count": 240,
     "metadata": {},
     "output_type": "execute_result"
    }
   ],
   "source": [
    "df_mar"
   ]
  },
  {
   "cell_type": "code",
   "execution_count": 245,
   "metadata": {},
   "outputs": [
    {
     "data": {
      "application/vnd.plotly.v1+json": {
       "config": {
        "plotlyServerURL": "https://plot.ly"
       },
       "data": [
        {
         "alignmentgroup": "True",
         "hovertemplate": "Marital Status=%{x}<br>Count=%{y}<extra></extra>",
         "legendgroup": "Married",
         "marker": {
          "color": "#636efa"
         },
         "name": "Married",
         "offsetgroup": "Married",
         "orientation": "v",
         "showlegend": true,
         "textposition": "auto",
         "type": "bar",
         "x": [
          "Married"
         ],
         "xaxis": "x",
         "y": [
          864
         ],
         "yaxis": "y"
        },
        {
         "alignmentgroup": "True",
         "hovertemplate": "Marital Status=%{x}<br>Count=%{y}<extra></extra>",
         "legendgroup": "Together",
         "marker": {
          "color": "#EF553B"
         },
         "name": "Together",
         "offsetgroup": "Together",
         "orientation": "v",
         "showlegend": true,
         "textposition": "auto",
         "type": "bar",
         "x": [
          "Together"
         ],
         "xaxis": "x",
         "y": [
          580
         ],
         "yaxis": "y"
        },
        {
         "alignmentgroup": "True",
         "hovertemplate": "Marital Status=%{x}<br>Count=%{y}<extra></extra>",
         "legendgroup": "Single",
         "marker": {
          "color": "#00cc96"
         },
         "name": "Single",
         "offsetgroup": "Single",
         "orientation": "v",
         "showlegend": true,
         "textposition": "auto",
         "type": "bar",
         "x": [
          "Single"
         ],
         "xaxis": "x",
         "y": [
          480
         ],
         "yaxis": "y"
        },
        {
         "alignmentgroup": "True",
         "hovertemplate": "Marital Status=%{x}<br>Count=%{y}<extra></extra>",
         "legendgroup": "Divorced",
         "marker": {
          "color": "#ab63fa"
         },
         "name": "Divorced",
         "offsetgroup": "Divorced",
         "orientation": "v",
         "showlegend": true,
         "textposition": "auto",
         "type": "bar",
         "x": [
          "Divorced"
         ],
         "xaxis": "x",
         "y": [
          232
         ],
         "yaxis": "y"
        },
        {
         "alignmentgroup": "True",
         "hovertemplate": "Marital Status=%{x}<br>Count=%{y}<extra></extra>",
         "legendgroup": "Widow",
         "marker": {
          "color": "#FFA15A"
         },
         "name": "Widow",
         "offsetgroup": "Widow",
         "orientation": "v",
         "showlegend": true,
         "textposition": "auto",
         "type": "bar",
         "x": [
          "Widow"
         ],
         "xaxis": "x",
         "y": [
          77
         ],
         "yaxis": "y"
        },
        {
         "alignmentgroup": "True",
         "hovertemplate": "Marital Status=%{x}<br>Count=%{y}<extra></extra>",
         "legendgroup": "Alone",
         "marker": {
          "color": "#19d3f3"
         },
         "name": "Alone",
         "offsetgroup": "Alone",
         "orientation": "v",
         "showlegend": true,
         "textposition": "auto",
         "type": "bar",
         "x": [
          "Alone"
         ],
         "xaxis": "x",
         "y": [
          3
         ],
         "yaxis": "y"
        },
        {
         "alignmentgroup": "True",
         "hovertemplate": "Marital Status=%{x}<br>Count=%{y}<extra></extra>",
         "legendgroup": "Absurd",
         "marker": {
          "color": "#FF6692"
         },
         "name": "Absurd",
         "offsetgroup": "Absurd",
         "orientation": "v",
         "showlegend": true,
         "textposition": "auto",
         "type": "bar",
         "x": [
          "Absurd"
         ],
         "xaxis": "x",
         "y": [
          2
         ],
         "yaxis": "y"
        },
        {
         "alignmentgroup": "True",
         "hovertemplate": "Marital Status=%{x}<br>Count=%{y}<extra></extra>",
         "legendgroup": "YOLO",
         "marker": {
          "color": "#B6E880"
         },
         "name": "YOLO",
         "offsetgroup": "YOLO",
         "orientation": "v",
         "showlegend": true,
         "textposition": "auto",
         "type": "bar",
         "x": [
          "YOLO"
         ],
         "xaxis": "x",
         "y": [
          2
         ],
         "yaxis": "y"
        }
       ],
       "layout": {
        "barmode": "relative",
        "height": 350,
        "legend": {
         "title": {
          "text": "Marital Status"
         },
         "tracegroupgap": 0
        },
        "margin": {
         "t": 60
        },
        "template": {
         "data": {
          "bar": [
           {
            "error_x": {
             "color": "#2a3f5f"
            },
            "error_y": {
             "color": "#2a3f5f"
            },
            "marker": {
             "line": {
              "color": "#E5ECF6",
              "width": 0.5
             }
            },
            "type": "bar"
           }
          ],
          "barpolar": [
           {
            "marker": {
             "line": {
              "color": "#E5ECF6",
              "width": 0.5
             }
            },
            "type": "barpolar"
           }
          ],
          "carpet": [
           {
            "aaxis": {
             "endlinecolor": "#2a3f5f",
             "gridcolor": "white",
             "linecolor": "white",
             "minorgridcolor": "white",
             "startlinecolor": "#2a3f5f"
            },
            "baxis": {
             "endlinecolor": "#2a3f5f",
             "gridcolor": "white",
             "linecolor": "white",
             "minorgridcolor": "white",
             "startlinecolor": "#2a3f5f"
            },
            "type": "carpet"
           }
          ],
          "choropleth": [
           {
            "colorbar": {
             "outlinewidth": 0,
             "ticks": ""
            },
            "type": "choropleth"
           }
          ],
          "contour": [
           {
            "colorbar": {
             "outlinewidth": 0,
             "ticks": ""
            },
            "colorscale": [
             [
              0,
              "#0d0887"
             ],
             [
              0.1111111111111111,
              "#46039f"
             ],
             [
              0.2222222222222222,
              "#7201a8"
             ],
             [
              0.3333333333333333,
              "#9c179e"
             ],
             [
              0.4444444444444444,
              "#bd3786"
             ],
             [
              0.5555555555555556,
              "#d8576b"
             ],
             [
              0.6666666666666666,
              "#ed7953"
             ],
             [
              0.7777777777777778,
              "#fb9f3a"
             ],
             [
              0.8888888888888888,
              "#fdca26"
             ],
             [
              1,
              "#f0f921"
             ]
            ],
            "type": "contour"
           }
          ],
          "contourcarpet": [
           {
            "colorbar": {
             "outlinewidth": 0,
             "ticks": ""
            },
            "type": "contourcarpet"
           }
          ],
          "heatmap": [
           {
            "colorbar": {
             "outlinewidth": 0,
             "ticks": ""
            },
            "colorscale": [
             [
              0,
              "#0d0887"
             ],
             [
              0.1111111111111111,
              "#46039f"
             ],
             [
              0.2222222222222222,
              "#7201a8"
             ],
             [
              0.3333333333333333,
              "#9c179e"
             ],
             [
              0.4444444444444444,
              "#bd3786"
             ],
             [
              0.5555555555555556,
              "#d8576b"
             ],
             [
              0.6666666666666666,
              "#ed7953"
             ],
             [
              0.7777777777777778,
              "#fb9f3a"
             ],
             [
              0.8888888888888888,
              "#fdca26"
             ],
             [
              1,
              "#f0f921"
             ]
            ],
            "type": "heatmap"
           }
          ],
          "heatmapgl": [
           {
            "colorbar": {
             "outlinewidth": 0,
             "ticks": ""
            },
            "colorscale": [
             [
              0,
              "#0d0887"
             ],
             [
              0.1111111111111111,
              "#46039f"
             ],
             [
              0.2222222222222222,
              "#7201a8"
             ],
             [
              0.3333333333333333,
              "#9c179e"
             ],
             [
              0.4444444444444444,
              "#bd3786"
             ],
             [
              0.5555555555555556,
              "#d8576b"
             ],
             [
              0.6666666666666666,
              "#ed7953"
             ],
             [
              0.7777777777777778,
              "#fb9f3a"
             ],
             [
              0.8888888888888888,
              "#fdca26"
             ],
             [
              1,
              "#f0f921"
             ]
            ],
            "type": "heatmapgl"
           }
          ],
          "histogram": [
           {
            "marker": {
             "colorbar": {
              "outlinewidth": 0,
              "ticks": ""
             }
            },
            "type": "histogram"
           }
          ],
          "histogram2d": [
           {
            "colorbar": {
             "outlinewidth": 0,
             "ticks": ""
            },
            "colorscale": [
             [
              0,
              "#0d0887"
             ],
             [
              0.1111111111111111,
              "#46039f"
             ],
             [
              0.2222222222222222,
              "#7201a8"
             ],
             [
              0.3333333333333333,
              "#9c179e"
             ],
             [
              0.4444444444444444,
              "#bd3786"
             ],
             [
              0.5555555555555556,
              "#d8576b"
             ],
             [
              0.6666666666666666,
              "#ed7953"
             ],
             [
              0.7777777777777778,
              "#fb9f3a"
             ],
             [
              0.8888888888888888,
              "#fdca26"
             ],
             [
              1,
              "#f0f921"
             ]
            ],
            "type": "histogram2d"
           }
          ],
          "histogram2dcontour": [
           {
            "colorbar": {
             "outlinewidth": 0,
             "ticks": ""
            },
            "colorscale": [
             [
              0,
              "#0d0887"
             ],
             [
              0.1111111111111111,
              "#46039f"
             ],
             [
              0.2222222222222222,
              "#7201a8"
             ],
             [
              0.3333333333333333,
              "#9c179e"
             ],
             [
              0.4444444444444444,
              "#bd3786"
             ],
             [
              0.5555555555555556,
              "#d8576b"
             ],
             [
              0.6666666666666666,
              "#ed7953"
             ],
             [
              0.7777777777777778,
              "#fb9f3a"
             ],
             [
              0.8888888888888888,
              "#fdca26"
             ],
             [
              1,
              "#f0f921"
             ]
            ],
            "type": "histogram2dcontour"
           }
          ],
          "mesh3d": [
           {
            "colorbar": {
             "outlinewidth": 0,
             "ticks": ""
            },
            "type": "mesh3d"
           }
          ],
          "parcoords": [
           {
            "line": {
             "colorbar": {
              "outlinewidth": 0,
              "ticks": ""
             }
            },
            "type": "parcoords"
           }
          ],
          "pie": [
           {
            "automargin": true,
            "type": "pie"
           }
          ],
          "scatter": [
           {
            "marker": {
             "colorbar": {
              "outlinewidth": 0,
              "ticks": ""
             }
            },
            "type": "scatter"
           }
          ],
          "scatter3d": [
           {
            "line": {
             "colorbar": {
              "outlinewidth": 0,
              "ticks": ""
             }
            },
            "marker": {
             "colorbar": {
              "outlinewidth": 0,
              "ticks": ""
             }
            },
            "type": "scatter3d"
           }
          ],
          "scattercarpet": [
           {
            "marker": {
             "colorbar": {
              "outlinewidth": 0,
              "ticks": ""
             }
            },
            "type": "scattercarpet"
           }
          ],
          "scattergeo": [
           {
            "marker": {
             "colorbar": {
              "outlinewidth": 0,
              "ticks": ""
             }
            },
            "type": "scattergeo"
           }
          ],
          "scattergl": [
           {
            "marker": {
             "colorbar": {
              "outlinewidth": 0,
              "ticks": ""
             }
            },
            "type": "scattergl"
           }
          ],
          "scattermapbox": [
           {
            "marker": {
             "colorbar": {
              "outlinewidth": 0,
              "ticks": ""
             }
            },
            "type": "scattermapbox"
           }
          ],
          "scatterpolar": [
           {
            "marker": {
             "colorbar": {
              "outlinewidth": 0,
              "ticks": ""
             }
            },
            "type": "scatterpolar"
           }
          ],
          "scatterpolargl": [
           {
            "marker": {
             "colorbar": {
              "outlinewidth": 0,
              "ticks": ""
             }
            },
            "type": "scatterpolargl"
           }
          ],
          "scatterternary": [
           {
            "marker": {
             "colorbar": {
              "outlinewidth": 0,
              "ticks": ""
             }
            },
            "type": "scatterternary"
           }
          ],
          "surface": [
           {
            "colorbar": {
             "outlinewidth": 0,
             "ticks": ""
            },
            "colorscale": [
             [
              0,
              "#0d0887"
             ],
             [
              0.1111111111111111,
              "#46039f"
             ],
             [
              0.2222222222222222,
              "#7201a8"
             ],
             [
              0.3333333333333333,
              "#9c179e"
             ],
             [
              0.4444444444444444,
              "#bd3786"
             ],
             [
              0.5555555555555556,
              "#d8576b"
             ],
             [
              0.6666666666666666,
              "#ed7953"
             ],
             [
              0.7777777777777778,
              "#fb9f3a"
             ],
             [
              0.8888888888888888,
              "#fdca26"
             ],
             [
              1,
              "#f0f921"
             ]
            ],
            "type": "surface"
           }
          ],
          "table": [
           {
            "cells": {
             "fill": {
              "color": "#EBF0F8"
             },
             "line": {
              "color": "white"
             }
            },
            "header": {
             "fill": {
              "color": "#C8D4E3"
             },
             "line": {
              "color": "white"
             }
            },
            "type": "table"
           }
          ]
         },
         "layout": {
          "annotationdefaults": {
           "arrowcolor": "#2a3f5f",
           "arrowhead": 0,
           "arrowwidth": 1
          },
          "autotypenumbers": "strict",
          "coloraxis": {
           "colorbar": {
            "outlinewidth": 0,
            "ticks": ""
           }
          },
          "colorscale": {
           "diverging": [
            [
             0,
             "#8e0152"
            ],
            [
             0.1,
             "#c51b7d"
            ],
            [
             0.2,
             "#de77ae"
            ],
            [
             0.3,
             "#f1b6da"
            ],
            [
             0.4,
             "#fde0ef"
            ],
            [
             0.5,
             "#f7f7f7"
            ],
            [
             0.6,
             "#e6f5d0"
            ],
            [
             0.7,
             "#b8e186"
            ],
            [
             0.8,
             "#7fbc41"
            ],
            [
             0.9,
             "#4d9221"
            ],
            [
             1,
             "#276419"
            ]
           ],
           "sequential": [
            [
             0,
             "#0d0887"
            ],
            [
             0.1111111111111111,
             "#46039f"
            ],
            [
             0.2222222222222222,
             "#7201a8"
            ],
            [
             0.3333333333333333,
             "#9c179e"
            ],
            [
             0.4444444444444444,
             "#bd3786"
            ],
            [
             0.5555555555555556,
             "#d8576b"
            ],
            [
             0.6666666666666666,
             "#ed7953"
            ],
            [
             0.7777777777777778,
             "#fb9f3a"
            ],
            [
             0.8888888888888888,
             "#fdca26"
            ],
            [
             1,
             "#f0f921"
            ]
           ],
           "sequentialminus": [
            [
             0,
             "#0d0887"
            ],
            [
             0.1111111111111111,
             "#46039f"
            ],
            [
             0.2222222222222222,
             "#7201a8"
            ],
            [
             0.3333333333333333,
             "#9c179e"
            ],
            [
             0.4444444444444444,
             "#bd3786"
            ],
            [
             0.5555555555555556,
             "#d8576b"
            ],
            [
             0.6666666666666666,
             "#ed7953"
            ],
            [
             0.7777777777777778,
             "#fb9f3a"
            ],
            [
             0.8888888888888888,
             "#fdca26"
            ],
            [
             1,
             "#f0f921"
            ]
           ]
          },
          "colorway": [
           "#636efa",
           "#EF553B",
           "#00cc96",
           "#ab63fa",
           "#FFA15A",
           "#19d3f3",
           "#FF6692",
           "#B6E880",
           "#FF97FF",
           "#FECB52"
          ],
          "font": {
           "color": "#2a3f5f"
          },
          "geo": {
           "bgcolor": "white",
           "lakecolor": "white",
           "landcolor": "#E5ECF6",
           "showlakes": true,
           "showland": true,
           "subunitcolor": "white"
          },
          "hoverlabel": {
           "align": "left"
          },
          "hovermode": "closest",
          "mapbox": {
           "style": "light"
          },
          "paper_bgcolor": "white",
          "plot_bgcolor": "#E5ECF6",
          "polar": {
           "angularaxis": {
            "gridcolor": "white",
            "linecolor": "white",
            "ticks": ""
           },
           "bgcolor": "#E5ECF6",
           "radialaxis": {
            "gridcolor": "white",
            "linecolor": "white",
            "ticks": ""
           }
          },
          "scene": {
           "xaxis": {
            "backgroundcolor": "#E5ECF6",
            "gridcolor": "white",
            "gridwidth": 2,
            "linecolor": "white",
            "showbackground": true,
            "ticks": "",
            "zerolinecolor": "white"
           },
           "yaxis": {
            "backgroundcolor": "#E5ECF6",
            "gridcolor": "white",
            "gridwidth": 2,
            "linecolor": "white",
            "showbackground": true,
            "ticks": "",
            "zerolinecolor": "white"
           },
           "zaxis": {
            "backgroundcolor": "#E5ECF6",
            "gridcolor": "white",
            "gridwidth": 2,
            "linecolor": "white",
            "showbackground": true,
            "ticks": "",
            "zerolinecolor": "white"
           }
          },
          "shapedefaults": {
           "line": {
            "color": "#2a3f5f"
           }
          },
          "ternary": {
           "aaxis": {
            "gridcolor": "white",
            "linecolor": "white",
            "ticks": ""
           },
           "baxis": {
            "gridcolor": "white",
            "linecolor": "white",
            "ticks": ""
           },
           "bgcolor": "#E5ECF6",
           "caxis": {
            "gridcolor": "white",
            "linecolor": "white",
            "ticks": ""
           }
          },
          "title": {
           "x": 0.05
          },
          "xaxis": {
           "automargin": true,
           "gridcolor": "white",
           "linecolor": "white",
           "ticks": "",
           "title": {
            "standoff": 15
           },
           "zerolinecolor": "white",
           "zerolinewidth": 2
          },
          "yaxis": {
           "automargin": true,
           "gridcolor": "white",
           "linecolor": "white",
           "ticks": "",
           "title": {
            "standoff": 15
           },
           "zerolinecolor": "white",
           "zerolinewidth": 2
          }
         }
        },
        "title": {
         "text": "Marital Status"
        },
        "width": 600,
        "xaxis": {
         "anchor": "y",
         "categoryarray": [
          "Married",
          "Together",
          "Single",
          "Divorced",
          "Widow",
          "Alone",
          "Absurd",
          "YOLO"
         ],
         "categoryorder": "array",
         "domain": [
          0,
          1
         ],
         "title": {
          "text": "Marital Status"
         }
        },
        "yaxis": {
         "anchor": "x",
         "domain": [
          0,
          1
         ],
         "title": {
          "text": "Count"
         }
        }
       }
      },
      "text/html": [
       "<div>                            <div id=\"955b991d-0e3e-44d2-9a43-04af3eabc7f4\" class=\"plotly-graph-div\" style=\"height:350px; width:600px;\"></div>            <script type=\"text/javascript\">                require([\"plotly\"], function(Plotly) {                    window.PLOTLYENV=window.PLOTLYENV || {};                                    if (document.getElementById(\"955b991d-0e3e-44d2-9a43-04af3eabc7f4\")) {                    Plotly.newPlot(                        \"955b991d-0e3e-44d2-9a43-04af3eabc7f4\",                        [{\"alignmentgroup\": \"True\", \"hovertemplate\": \"Marital Status=%{x}<br>Count=%{y}<extra></extra>\", \"legendgroup\": \"Married\", \"marker\": {\"color\": \"#636efa\"}, \"name\": \"Married\", \"offsetgroup\": \"Married\", \"orientation\": \"v\", \"showlegend\": true, \"textposition\": \"auto\", \"type\": \"bar\", \"x\": [\"Married\"], \"xaxis\": \"x\", \"y\": [864], \"yaxis\": \"y\"}, {\"alignmentgroup\": \"True\", \"hovertemplate\": \"Marital Status=%{x}<br>Count=%{y}<extra></extra>\", \"legendgroup\": \"Together\", \"marker\": {\"color\": \"#EF553B\"}, \"name\": \"Together\", \"offsetgroup\": \"Together\", \"orientation\": \"v\", \"showlegend\": true, \"textposition\": \"auto\", \"type\": \"bar\", \"x\": [\"Together\"], \"xaxis\": \"x\", \"y\": [580], \"yaxis\": \"y\"}, {\"alignmentgroup\": \"True\", \"hovertemplate\": \"Marital Status=%{x}<br>Count=%{y}<extra></extra>\", \"legendgroup\": \"Single\", \"marker\": {\"color\": \"#00cc96\"}, \"name\": \"Single\", \"offsetgroup\": \"Single\", \"orientation\": \"v\", \"showlegend\": true, \"textposition\": \"auto\", \"type\": \"bar\", \"x\": [\"Single\"], \"xaxis\": \"x\", \"y\": [480], \"yaxis\": \"y\"}, {\"alignmentgroup\": \"True\", \"hovertemplate\": \"Marital Status=%{x}<br>Count=%{y}<extra></extra>\", \"legendgroup\": \"Divorced\", \"marker\": {\"color\": \"#ab63fa\"}, \"name\": \"Divorced\", \"offsetgroup\": \"Divorced\", \"orientation\": \"v\", \"showlegend\": true, \"textposition\": \"auto\", \"type\": \"bar\", \"x\": [\"Divorced\"], \"xaxis\": \"x\", \"y\": [232], \"yaxis\": \"y\"}, {\"alignmentgroup\": \"True\", \"hovertemplate\": \"Marital Status=%{x}<br>Count=%{y}<extra></extra>\", \"legendgroup\": \"Widow\", \"marker\": {\"color\": \"#FFA15A\"}, \"name\": \"Widow\", \"offsetgroup\": \"Widow\", \"orientation\": \"v\", \"showlegend\": true, \"textposition\": \"auto\", \"type\": \"bar\", \"x\": [\"Widow\"], \"xaxis\": \"x\", \"y\": [77], \"yaxis\": \"y\"}, {\"alignmentgroup\": \"True\", \"hovertemplate\": \"Marital Status=%{x}<br>Count=%{y}<extra></extra>\", \"legendgroup\": \"Alone\", \"marker\": {\"color\": \"#19d3f3\"}, \"name\": \"Alone\", \"offsetgroup\": \"Alone\", \"orientation\": \"v\", \"showlegend\": true, \"textposition\": \"auto\", \"type\": \"bar\", \"x\": [\"Alone\"], \"xaxis\": \"x\", \"y\": [3], \"yaxis\": \"y\"}, {\"alignmentgroup\": \"True\", \"hovertemplate\": \"Marital Status=%{x}<br>Count=%{y}<extra></extra>\", \"legendgroup\": \"Absurd\", \"marker\": {\"color\": \"#FF6692\"}, \"name\": \"Absurd\", \"offsetgroup\": \"Absurd\", \"orientation\": \"v\", \"showlegend\": true, \"textposition\": \"auto\", \"type\": \"bar\", \"x\": [\"Absurd\"], \"xaxis\": \"x\", \"y\": [2], \"yaxis\": \"y\"}, {\"alignmentgroup\": \"True\", \"hovertemplate\": \"Marital Status=%{x}<br>Count=%{y}<extra></extra>\", \"legendgroup\": \"YOLO\", \"marker\": {\"color\": \"#B6E880\"}, \"name\": \"YOLO\", \"offsetgroup\": \"YOLO\", \"orientation\": \"v\", \"showlegend\": true, \"textposition\": \"auto\", \"type\": \"bar\", \"x\": [\"YOLO\"], \"xaxis\": \"x\", \"y\": [2], \"yaxis\": \"y\"}],                        {\"barmode\": \"relative\", \"height\": 350, \"legend\": {\"title\": {\"text\": \"Marital Status\"}, \"tracegroupgap\": 0}, \"margin\": {\"t\": 60}, \"template\": {\"data\": {\"bar\": [{\"error_x\": {\"color\": \"#2a3f5f\"}, \"error_y\": {\"color\": \"#2a3f5f\"}, \"marker\": {\"line\": {\"color\": \"#E5ECF6\", \"width\": 0.5}}, \"type\": \"bar\"}], \"barpolar\": [{\"marker\": {\"line\": {\"color\": \"#E5ECF6\", \"width\": 0.5}}, \"type\": \"barpolar\"}], \"carpet\": [{\"aaxis\": {\"endlinecolor\": \"#2a3f5f\", \"gridcolor\": \"white\", \"linecolor\": \"white\", \"minorgridcolor\": \"white\", \"startlinecolor\": \"#2a3f5f\"}, \"baxis\": {\"endlinecolor\": \"#2a3f5f\", \"gridcolor\": \"white\", \"linecolor\": \"white\", \"minorgridcolor\": \"white\", \"startlinecolor\": \"#2a3f5f\"}, \"type\": \"carpet\"}], \"choropleth\": [{\"colorbar\": {\"outlinewidth\": 0, \"ticks\": \"\"}, \"type\": \"choropleth\"}], \"contour\": [{\"colorbar\": {\"outlinewidth\": 0, \"ticks\": \"\"}, \"colorscale\": [[0.0, \"#0d0887\"], [0.1111111111111111, \"#46039f\"], [0.2222222222222222, \"#7201a8\"], [0.3333333333333333, \"#9c179e\"], [0.4444444444444444, \"#bd3786\"], [0.5555555555555556, \"#d8576b\"], [0.6666666666666666, \"#ed7953\"], [0.7777777777777778, \"#fb9f3a\"], [0.8888888888888888, \"#fdca26\"], [1.0, \"#f0f921\"]], \"type\": \"contour\"}], \"contourcarpet\": [{\"colorbar\": {\"outlinewidth\": 0, \"ticks\": \"\"}, \"type\": \"contourcarpet\"}], \"heatmap\": [{\"colorbar\": {\"outlinewidth\": 0, \"ticks\": \"\"}, \"colorscale\": [[0.0, \"#0d0887\"], [0.1111111111111111, \"#46039f\"], [0.2222222222222222, \"#7201a8\"], [0.3333333333333333, \"#9c179e\"], [0.4444444444444444, \"#bd3786\"], [0.5555555555555556, \"#d8576b\"], [0.6666666666666666, \"#ed7953\"], [0.7777777777777778, \"#fb9f3a\"], [0.8888888888888888, \"#fdca26\"], [1.0, \"#f0f921\"]], \"type\": \"heatmap\"}], \"heatmapgl\": [{\"colorbar\": {\"outlinewidth\": 0, \"ticks\": \"\"}, \"colorscale\": [[0.0, \"#0d0887\"], [0.1111111111111111, \"#46039f\"], [0.2222222222222222, \"#7201a8\"], [0.3333333333333333, \"#9c179e\"], [0.4444444444444444, \"#bd3786\"], [0.5555555555555556, \"#d8576b\"], [0.6666666666666666, \"#ed7953\"], [0.7777777777777778, \"#fb9f3a\"], [0.8888888888888888, \"#fdca26\"], [1.0, \"#f0f921\"]], \"type\": \"heatmapgl\"}], \"histogram\": [{\"marker\": {\"colorbar\": {\"outlinewidth\": 0, \"ticks\": \"\"}}, \"type\": \"histogram\"}], \"histogram2d\": [{\"colorbar\": {\"outlinewidth\": 0, \"ticks\": \"\"}, \"colorscale\": [[0.0, \"#0d0887\"], [0.1111111111111111, \"#46039f\"], [0.2222222222222222, \"#7201a8\"], [0.3333333333333333, \"#9c179e\"], [0.4444444444444444, \"#bd3786\"], [0.5555555555555556, \"#d8576b\"], [0.6666666666666666, \"#ed7953\"], [0.7777777777777778, \"#fb9f3a\"], [0.8888888888888888, \"#fdca26\"], [1.0, \"#f0f921\"]], \"type\": \"histogram2d\"}], \"histogram2dcontour\": [{\"colorbar\": {\"outlinewidth\": 0, \"ticks\": \"\"}, \"colorscale\": [[0.0, \"#0d0887\"], [0.1111111111111111, \"#46039f\"], [0.2222222222222222, \"#7201a8\"], [0.3333333333333333, \"#9c179e\"], [0.4444444444444444, \"#bd3786\"], [0.5555555555555556, \"#d8576b\"], [0.6666666666666666, \"#ed7953\"], [0.7777777777777778, \"#fb9f3a\"], [0.8888888888888888, \"#fdca26\"], [1.0, \"#f0f921\"]], \"type\": \"histogram2dcontour\"}], \"mesh3d\": [{\"colorbar\": {\"outlinewidth\": 0, \"ticks\": \"\"}, \"type\": \"mesh3d\"}], \"parcoords\": [{\"line\": {\"colorbar\": {\"outlinewidth\": 0, \"ticks\": \"\"}}, \"type\": \"parcoords\"}], \"pie\": [{\"automargin\": true, \"type\": \"pie\"}], \"scatter\": [{\"marker\": {\"colorbar\": {\"outlinewidth\": 0, \"ticks\": \"\"}}, \"type\": \"scatter\"}], \"scatter3d\": [{\"line\": {\"colorbar\": {\"outlinewidth\": 0, \"ticks\": \"\"}}, \"marker\": {\"colorbar\": {\"outlinewidth\": 0, \"ticks\": \"\"}}, \"type\": \"scatter3d\"}], \"scattercarpet\": [{\"marker\": {\"colorbar\": {\"outlinewidth\": 0, \"ticks\": \"\"}}, \"type\": \"scattercarpet\"}], \"scattergeo\": [{\"marker\": {\"colorbar\": {\"outlinewidth\": 0, \"ticks\": \"\"}}, \"type\": \"scattergeo\"}], \"scattergl\": [{\"marker\": {\"colorbar\": {\"outlinewidth\": 0, \"ticks\": \"\"}}, \"type\": \"scattergl\"}], \"scattermapbox\": [{\"marker\": {\"colorbar\": {\"outlinewidth\": 0, \"ticks\": \"\"}}, \"type\": \"scattermapbox\"}], \"scatterpolar\": [{\"marker\": {\"colorbar\": {\"outlinewidth\": 0, \"ticks\": \"\"}}, \"type\": \"scatterpolar\"}], \"scatterpolargl\": [{\"marker\": {\"colorbar\": {\"outlinewidth\": 0, \"ticks\": \"\"}}, \"type\": \"scatterpolargl\"}], \"scatterternary\": [{\"marker\": {\"colorbar\": {\"outlinewidth\": 0, \"ticks\": \"\"}}, \"type\": \"scatterternary\"}], \"surface\": [{\"colorbar\": {\"outlinewidth\": 0, \"ticks\": \"\"}, \"colorscale\": [[0.0, \"#0d0887\"], [0.1111111111111111, \"#46039f\"], [0.2222222222222222, \"#7201a8\"], [0.3333333333333333, \"#9c179e\"], [0.4444444444444444, \"#bd3786\"], [0.5555555555555556, \"#d8576b\"], [0.6666666666666666, \"#ed7953\"], [0.7777777777777778, \"#fb9f3a\"], [0.8888888888888888, \"#fdca26\"], [1.0, \"#f0f921\"]], \"type\": \"surface\"}], \"table\": [{\"cells\": {\"fill\": {\"color\": \"#EBF0F8\"}, \"line\": {\"color\": \"white\"}}, \"header\": {\"fill\": {\"color\": \"#C8D4E3\"}, \"line\": {\"color\": \"white\"}}, \"type\": \"table\"}]}, \"layout\": {\"annotationdefaults\": {\"arrowcolor\": \"#2a3f5f\", \"arrowhead\": 0, \"arrowwidth\": 1}, \"autotypenumbers\": \"strict\", \"coloraxis\": {\"colorbar\": {\"outlinewidth\": 0, \"ticks\": \"\"}}, \"colorscale\": {\"diverging\": [[0, \"#8e0152\"], [0.1, \"#c51b7d\"], [0.2, \"#de77ae\"], [0.3, \"#f1b6da\"], [0.4, \"#fde0ef\"], [0.5, \"#f7f7f7\"], [0.6, \"#e6f5d0\"], [0.7, \"#b8e186\"], [0.8, \"#7fbc41\"], [0.9, \"#4d9221\"], [1, \"#276419\"]], \"sequential\": [[0.0, \"#0d0887\"], [0.1111111111111111, \"#46039f\"], [0.2222222222222222, \"#7201a8\"], [0.3333333333333333, \"#9c179e\"], [0.4444444444444444, \"#bd3786\"], [0.5555555555555556, \"#d8576b\"], [0.6666666666666666, \"#ed7953\"], [0.7777777777777778, \"#fb9f3a\"], [0.8888888888888888, \"#fdca26\"], [1.0, \"#f0f921\"]], \"sequentialminus\": [[0.0, \"#0d0887\"], [0.1111111111111111, \"#46039f\"], [0.2222222222222222, \"#7201a8\"], [0.3333333333333333, \"#9c179e\"], [0.4444444444444444, \"#bd3786\"], [0.5555555555555556, \"#d8576b\"], [0.6666666666666666, \"#ed7953\"], [0.7777777777777778, \"#fb9f3a\"], [0.8888888888888888, \"#fdca26\"], [1.0, \"#f0f921\"]]}, \"colorway\": [\"#636efa\", \"#EF553B\", \"#00cc96\", \"#ab63fa\", \"#FFA15A\", \"#19d3f3\", \"#FF6692\", \"#B6E880\", \"#FF97FF\", \"#FECB52\"], \"font\": {\"color\": \"#2a3f5f\"}, \"geo\": {\"bgcolor\": \"white\", \"lakecolor\": \"white\", \"landcolor\": \"#E5ECF6\", \"showlakes\": true, \"showland\": true, \"subunitcolor\": \"white\"}, \"hoverlabel\": {\"align\": \"left\"}, \"hovermode\": \"closest\", \"mapbox\": {\"style\": \"light\"}, \"paper_bgcolor\": \"white\", \"plot_bgcolor\": \"#E5ECF6\", \"polar\": {\"angularaxis\": {\"gridcolor\": \"white\", \"linecolor\": \"white\", \"ticks\": \"\"}, \"bgcolor\": \"#E5ECF6\", \"radialaxis\": {\"gridcolor\": \"white\", \"linecolor\": \"white\", \"ticks\": \"\"}}, \"scene\": {\"xaxis\": {\"backgroundcolor\": \"#E5ECF6\", \"gridcolor\": \"white\", \"gridwidth\": 2, \"linecolor\": \"white\", \"showbackground\": true, \"ticks\": \"\", \"zerolinecolor\": \"white\"}, \"yaxis\": {\"backgroundcolor\": \"#E5ECF6\", \"gridcolor\": \"white\", \"gridwidth\": 2, \"linecolor\": \"white\", \"showbackground\": true, \"ticks\": \"\", \"zerolinecolor\": \"white\"}, \"zaxis\": {\"backgroundcolor\": \"#E5ECF6\", \"gridcolor\": \"white\", \"gridwidth\": 2, \"linecolor\": \"white\", \"showbackground\": true, \"ticks\": \"\", \"zerolinecolor\": \"white\"}}, \"shapedefaults\": {\"line\": {\"color\": \"#2a3f5f\"}}, \"ternary\": {\"aaxis\": {\"gridcolor\": \"white\", \"linecolor\": \"white\", \"ticks\": \"\"}, \"baxis\": {\"gridcolor\": \"white\", \"linecolor\": \"white\", \"ticks\": \"\"}, \"bgcolor\": \"#E5ECF6\", \"caxis\": {\"gridcolor\": \"white\", \"linecolor\": \"white\", \"ticks\": \"\"}}, \"title\": {\"x\": 0.05}, \"xaxis\": {\"automargin\": true, \"gridcolor\": \"white\", \"linecolor\": \"white\", \"ticks\": \"\", \"title\": {\"standoff\": 15}, \"zerolinecolor\": \"white\", \"zerolinewidth\": 2}, \"yaxis\": {\"automargin\": true, \"gridcolor\": \"white\", \"linecolor\": \"white\", \"ticks\": \"\", \"title\": {\"standoff\": 15}, \"zerolinecolor\": \"white\", \"zerolinewidth\": 2}}}, \"title\": {\"text\": \"Marital Status\"}, \"width\": 600, \"xaxis\": {\"anchor\": \"y\", \"categoryarray\": [\"Married\", \"Together\", \"Single\", \"Divorced\", \"Widow\", \"Alone\", \"Absurd\", \"YOLO\"], \"categoryorder\": \"array\", \"domain\": [0.0, 1.0], \"title\": {\"text\": \"Marital Status\"}}, \"yaxis\": {\"anchor\": \"x\", \"domain\": [0.0, 1.0], \"title\": {\"text\": \"Count\"}}},                        {\"responsive\": true}                    ).then(function(){\n",
       "                            \n",
       "var gd = document.getElementById('955b991d-0e3e-44d2-9a43-04af3eabc7f4');\n",
       "var x = new MutationObserver(function (mutations, observer) {{\n",
       "        var display = window.getComputedStyle(gd).display;\n",
       "        if (!display || display === 'none') {{\n",
       "            console.log([gd, 'removed!']);\n",
       "            Plotly.purge(gd);\n",
       "            observer.disconnect();\n",
       "        }}\n",
       "}});\n",
       "\n",
       "// Listen for the removal of the full notebook cells\n",
       "var notebookContainer = gd.closest('#notebook-container');\n",
       "if (notebookContainer) {{\n",
       "    x.observe(notebookContainer, {childList: true});\n",
       "}}\n",
       "\n",
       "// Listen for the clearing of the current output cell\n",
       "var outputEl = gd.closest('.output');\n",
       "if (outputEl) {{\n",
       "    x.observe(outputEl, {childList: true});\n",
       "}}\n",
       "\n",
       "                        })                };                });            </script>        </div>"
      ]
     },
     "metadata": {},
     "output_type": "display_data"
    }
   ],
   "source": [
    "fig = px.bar(df_mar, x='Marital Status', y='Count', color='Marital Status')\n",
    "fig.update_layout(width=600, height=350, title='Marital Status')\n",
    "fig.show()"
   ]
  },
  {
   "cell_type": "code",
   "execution_count": null,
   "metadata": {},
   "outputs": [],
   "source": []
  }
 ],
 "metadata": {
  "kernelspec": {
   "display_name": "Python 3",
   "language": "python",
   "name": "python3"
  },
  "language_info": {
   "codemirror_mode": {
    "name": "ipython",
    "version": 3
   },
   "file_extension": ".py",
   "mimetype": "text/x-python",
   "name": "python",
   "nbconvert_exporter": "python",
   "pygments_lexer": "ipython3",
   "version": "3.8.8"
  }
 },
 "nbformat": 4,
 "nbformat_minor": 4
}
