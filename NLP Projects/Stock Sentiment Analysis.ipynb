{
 "cells": [
  {
   "cell_type": "markdown",
   "id": "db6067a0-ca23-435f-9978-e7257d3cb4a9",
   "metadata": {},
   "source": [
    "# Problem Statment: Stock Sentiment Analysis using News Headlines"
   ]
  },
  {
   "cell_type": "markdown",
   "id": "00213259-db94-4738-bfbc-6b2bab19580c",
   "metadata": {},
   "source": [
    "- The dataset in consideration is a combination of the world news and stock price shifts available on Kaggle.\n",
    "- There are 25 columns of top news headlines for each day in the dataframe.\n",
    "- The data ranges from 2008 to 2016 and the data from 2000 to 2008 was scrapped from Yahoo Finance.\n",
    "- Labels are based on the Dow Jones Industrial Average stock index.\n",
    "- Class 1 ---> the stock price increased.\n",
    "- Class 0 ---> the stock price stayed the same or decreased."
   ]
  },
  {
   "cell_type": "code",
   "execution_count": null,
   "id": "4c3876aa-d48f-46f7-afd3-56a6fd142128",
   "metadata": {},
   "outputs": [],
   "source": []
  }
 ],
 "metadata": {
  "kernelspec": {
   "display_name": "Python 3 (ipykernel)",
   "language": "python",
   "name": "python3"
  },
  "language_info": {
   "codemirror_mode": {
    "name": "ipython",
    "version": 3
   },
   "file_extension": ".py",
   "mimetype": "text/x-python",
   "name": "python",
   "nbconvert_exporter": "python",
   "pygments_lexer": "ipython3",
   "version": "3.8.8"
  }
 },
 "nbformat": 4,
 "nbformat_minor": 5
}
