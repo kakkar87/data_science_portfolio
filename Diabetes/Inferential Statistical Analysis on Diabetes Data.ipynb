{
 "cells": [
  {
   "cell_type": "markdown",
   "id": "f52c54fe",
   "metadata": {},
   "source": [
    "## Introduction\n",
    "\n",
    "### About Dataset\n",
    "\n",
    "**Context**\n",
    "\n",
    "This dataset is originally from the National Institute of Diabetes and Digestive and Kidney Diseases. The objective of the dataset is to diagnostically predict whether or not a patient has diabetes, based on certain diagnostic measurements included in the dataset. Several constraints were placed on the selection of these instances from a larger database. In particular, all patients here are females at least 21 years old of Pima Indian heritage.\n",
    "\n",
    "**Content**\n",
    "\n",
    "The datasets consists of several medical predictor variables and one target variable, Outcome. Predictor variables includes the number of pregnancies the patient has had, their BMI, insulin level, age, and so on."
   ]
  },
  {
   "cell_type": "markdown",
   "id": "34b4f92b",
   "metadata": {},
   "source": [
    "**I am going to cover the importance of Confidence Interval and the importance of considering Standard Estimate Error whenever we calculate some Statics on Data.**"
   ]
  },
  {
   "cell_type": "markdown",
   "id": "fa1ebbd8",
   "metadata": {},
   "source": [
    "We always work with a sample of data, When we make inferences about the population we should always consider a standard estimated error. To show the process of making inferences on population from Sample Data, I will be doing my analysis on only 2 variables."
   ]
  },
  {
   "cell_type": "markdown",
   "id": "8e756729",
   "metadata": {},
   "source": [
    "**Assumption that data must hold true to make inferences on population:**\n",
    "\n",
    "There are a few assumptions for finding confidence intervals. I am assuming that the dataset provided is holding true to those assumptions\n",
    "\n",
    "1. Samples are SRS(Simple Random Sampling) (Every observation in Population have an equal chance of being selected)\n",
    "2. Normality (Distribution of the desired variable is normal)\n",
    "3. If in case distribution of some parameter of interest is not distributed normal, we may assume normality using Central Limit Theorem, Larger sample size proportional to the normality of data."
   ]
  },
  {
   "cell_type": "code",
   "execution_count": 1,
   "id": "a4b70bd1",
   "metadata": {},
   "outputs": [],
   "source": [
    "import warnings\n",
    "warnings.filterwarnings('ignore')\n",
    "\n",
    "import pandas as pd\n",
    "import numpy as np\n",
    "import matplotlib.pyplot as plt\n",
    "import seaborn as sns\n",
    "sns.set_style('darkgrid')\n",
    "%matplotlib inline"
   ]
  },
  {
   "cell_type": "code",
   "execution_count": 2,
   "id": "8d343449",
   "metadata": {},
   "outputs": [
    {
     "data": {
      "text/html": [
       "<div>\n",
       "<style scoped>\n",
       "    .dataframe tbody tr th:only-of-type {\n",
       "        vertical-align: middle;\n",
       "    }\n",
       "\n",
       "    .dataframe tbody tr th {\n",
       "        vertical-align: top;\n",
       "    }\n",
       "\n",
       "    .dataframe thead th {\n",
       "        text-align: right;\n",
       "    }\n",
       "</style>\n",
       "<table border=\"1\" class=\"dataframe\">\n",
       "  <thead>\n",
       "    <tr style=\"text-align: right;\">\n",
       "      <th></th>\n",
       "      <th>Pregnancies</th>\n",
       "      <th>Glucose</th>\n",
       "      <th>BloodPressure</th>\n",
       "      <th>SkinThickness</th>\n",
       "      <th>Insulin</th>\n",
       "      <th>BMI</th>\n",
       "      <th>DiabetesPedigreeFunction</th>\n",
       "      <th>Age</th>\n",
       "      <th>Outcome</th>\n",
       "    </tr>\n",
       "  </thead>\n",
       "  <tbody>\n",
       "    <tr>\n",
       "      <th>0</th>\n",
       "      <td>6</td>\n",
       "      <td>148</td>\n",
       "      <td>72</td>\n",
       "      <td>35</td>\n",
       "      <td>0</td>\n",
       "      <td>33.6</td>\n",
       "      <td>0.627</td>\n",
       "      <td>50</td>\n",
       "      <td>1</td>\n",
       "    </tr>\n",
       "    <tr>\n",
       "      <th>1</th>\n",
       "      <td>1</td>\n",
       "      <td>85</td>\n",
       "      <td>66</td>\n",
       "      <td>29</td>\n",
       "      <td>0</td>\n",
       "      <td>26.6</td>\n",
       "      <td>0.351</td>\n",
       "      <td>31</td>\n",
       "      <td>0</td>\n",
       "    </tr>\n",
       "    <tr>\n",
       "      <th>2</th>\n",
       "      <td>8</td>\n",
       "      <td>183</td>\n",
       "      <td>64</td>\n",
       "      <td>0</td>\n",
       "      <td>0</td>\n",
       "      <td>23.3</td>\n",
       "      <td>0.672</td>\n",
       "      <td>32</td>\n",
       "      <td>1</td>\n",
       "    </tr>\n",
       "    <tr>\n",
       "      <th>3</th>\n",
       "      <td>1</td>\n",
       "      <td>89</td>\n",
       "      <td>66</td>\n",
       "      <td>23</td>\n",
       "      <td>94</td>\n",
       "      <td>28.1</td>\n",
       "      <td>0.167</td>\n",
       "      <td>21</td>\n",
       "      <td>0</td>\n",
       "    </tr>\n",
       "    <tr>\n",
       "      <th>4</th>\n",
       "      <td>0</td>\n",
       "      <td>137</td>\n",
       "      <td>40</td>\n",
       "      <td>35</td>\n",
       "      <td>168</td>\n",
       "      <td>43.1</td>\n",
       "      <td>2.288</td>\n",
       "      <td>33</td>\n",
       "      <td>1</td>\n",
       "    </tr>\n",
       "  </tbody>\n",
       "</table>\n",
       "</div>"
      ],
      "text/plain": [
       "   Pregnancies  Glucose  BloodPressure  SkinThickness  Insulin   BMI  \\\n",
       "0            6      148             72             35        0  33.6   \n",
       "1            1       85             66             29        0  26.6   \n",
       "2            8      183             64              0        0  23.3   \n",
       "3            1       89             66             23       94  28.1   \n",
       "4            0      137             40             35      168  43.1   \n",
       "\n",
       "   DiabetesPedigreeFunction  Age  Outcome  \n",
       "0                     0.627   50        1  \n",
       "1                     0.351   31        0  \n",
       "2                     0.672   32        1  \n",
       "3                     0.167   21        0  \n",
       "4                     2.288   33        1  "
      ]
     },
     "execution_count": 2,
     "metadata": {},
     "output_type": "execute_result"
    }
   ],
   "source": [
    "df = pd.read_csv('diabetes.csv')\n",
    "df.head()"
   ]
  },
  {
   "cell_type": "markdown",
   "id": "b566ffc1",
   "metadata": {},
   "source": [
    "### Problem Statement (1)\n",
    "\n",
    "**What proportion of people report they have diabetes (according to given sample of data)?**\n",
    "\n",
    "Let us define a few params\n",
    "\n",
    "1. Population here is People with Diabetes.\n",
    "2. Our Parameter of Interest is to calculate a Proportion.\n",
    "3. Our task is to Construct a 95% Confidence Interval for the population proportion of people reporting that they have diabetes."
   ]
  },
  {
   "cell_type": "code",
   "execution_count": 3,
   "id": "48b9b97b",
   "metadata": {},
   "outputs": [
    {
     "name": "stdout",
     "output_type": "stream",
     "text": [
      "Non-Diab    500\n",
      "Diab        268\n",
      "Name: Outcome, dtype: int64\n"
     ]
    }
   ],
   "source": [
    "df.Outcome.replace({0:'Non-Diab',1:'Diab'},inplace=True)\n",
    "print(df.Outcome.value_counts())"
   ]
  },
  {
   "cell_type": "code",
   "execution_count": 11,
   "id": "2f1ecc97",
   "metadata": {},
   "outputs": [
    {
     "name": "stdout",
     "output_type": "stream",
     "text": [
      "Number of Total Observations are: 768\n",
      "Number of Diabetic Patient are: 268\n"
     ]
    }
   ],
   "source": [
    "n = df.shape[0]\n",
    "diabetic = df['Outcome'].value_counts().loc['Diab']\n",
    "\n",
    "print('Number of Total Observations are:', n)\n",
    "print('Number of Diabetic Patient are:', diabetic)"
   ]
  },
  {
   "cell_type": "code",
   "execution_count": 15,
   "id": "28f44cda",
   "metadata": {},
   "outputs": [
    {
     "name": "stdout",
     "output_type": "stream",
     "text": [
      "\n",
      "95% Confidence Interval for Proportion of People with Diabetes is: (0.3152483405027714, 0.38266832616389523)\n"
     ]
    }
   ],
   "source": [
    "#Let us now calculate 95% confidence interval using statsmodel\n",
    "import statsmodels.api as sm\n",
    "\n",
    "print(\"\\n95% Confidence Interval for Proportion of People with Diabetes is:\",\n",
    "      sm.stats.proportion_confint(diabetic, n, alpha=0.05))"
   ]
  },
  {
   "cell_type": "markdown",
   "id": "1297ada7",
   "metadata": {},
   "source": [
    "**How should I interpret this Confidence Interval, what information does this convey?**\n",
    "\n",
    "- **Interpretation:** With 95% confidence, the population proportion of people having diabetes is estimated to be between 31.52% - 38.26%."
   ]
  },
  {
   "cell_type": "markdown",
   "id": "04870b49",
   "metadata": {},
   "source": [
    "### Problem Statement (2)\n",
    "\n",
    "**What is average month of Pregnancy for Patients with diabetes?**\n",
    "\n",
    "Let us define a few params\n",
    "\n",
    "1. Population here is all patients with Diabetes\n",
    "2. Our Parameter of Interest is to calculate a population Mean Pregnancy Month of Patients with diabetes.\n",
    "3. Our task is to Construct a 95% C.I. for population mean Pregnancies month for all Patients with Diabetes\n"
   ]
  },
  {
   "cell_type": "code",
   "execution_count": 16,
   "id": "6b55a0f6",
   "metadata": {},
   "outputs": [
    {
     "data": {
      "text/html": [
       "<div>\n",
       "<style scoped>\n",
       "    .dataframe tbody tr th:only-of-type {\n",
       "        vertical-align: middle;\n",
       "    }\n",
       "\n",
       "    .dataframe tbody tr th {\n",
       "        vertical-align: top;\n",
       "    }\n",
       "\n",
       "    .dataframe thead th {\n",
       "        text-align: right;\n",
       "    }\n",
       "</style>\n",
       "<table border=\"1\" class=\"dataframe\">\n",
       "  <thead>\n",
       "    <tr style=\"text-align: right;\">\n",
       "      <th></th>\n",
       "      <th>Pregnancies</th>\n",
       "      <th>Glucose</th>\n",
       "      <th>BloodPressure</th>\n",
       "      <th>SkinThickness</th>\n",
       "      <th>Insulin</th>\n",
       "      <th>BMI</th>\n",
       "      <th>DiabetesPedigreeFunction</th>\n",
       "      <th>Age</th>\n",
       "      <th>Outcome</th>\n",
       "    </tr>\n",
       "  </thead>\n",
       "  <tbody>\n",
       "    <tr>\n",
       "      <th>0</th>\n",
       "      <td>6</td>\n",
       "      <td>148</td>\n",
       "      <td>72</td>\n",
       "      <td>35</td>\n",
       "      <td>0</td>\n",
       "      <td>33.6</td>\n",
       "      <td>0.627</td>\n",
       "      <td>50</td>\n",
       "      <td>Diab</td>\n",
       "    </tr>\n",
       "    <tr>\n",
       "      <th>2</th>\n",
       "      <td>8</td>\n",
       "      <td>183</td>\n",
       "      <td>64</td>\n",
       "      <td>0</td>\n",
       "      <td>0</td>\n",
       "      <td>23.3</td>\n",
       "      <td>0.672</td>\n",
       "      <td>32</td>\n",
       "      <td>Diab</td>\n",
       "    </tr>\n",
       "    <tr>\n",
       "      <th>4</th>\n",
       "      <td>0</td>\n",
       "      <td>137</td>\n",
       "      <td>40</td>\n",
       "      <td>35</td>\n",
       "      <td>168</td>\n",
       "      <td>43.1</td>\n",
       "      <td>2.288</td>\n",
       "      <td>33</td>\n",
       "      <td>Diab</td>\n",
       "    </tr>\n",
       "    <tr>\n",
       "      <th>6</th>\n",
       "      <td>3</td>\n",
       "      <td>78</td>\n",
       "      <td>50</td>\n",
       "      <td>32</td>\n",
       "      <td>88</td>\n",
       "      <td>31.0</td>\n",
       "      <td>0.248</td>\n",
       "      <td>26</td>\n",
       "      <td>Diab</td>\n",
       "    </tr>\n",
       "    <tr>\n",
       "      <th>8</th>\n",
       "      <td>2</td>\n",
       "      <td>197</td>\n",
       "      <td>70</td>\n",
       "      <td>45</td>\n",
       "      <td>543</td>\n",
       "      <td>30.5</td>\n",
       "      <td>0.158</td>\n",
       "      <td>53</td>\n",
       "      <td>Diab</td>\n",
       "    </tr>\n",
       "  </tbody>\n",
       "</table>\n",
       "</div>"
      ],
      "text/plain": [
       "   Pregnancies  Glucose  BloodPressure  SkinThickness  Insulin   BMI  \\\n",
       "0            6      148             72             35        0  33.6   \n",
       "2            8      183             64              0        0  23.3   \n",
       "4            0      137             40             35      168  43.1   \n",
       "6            3       78             50             32       88  31.0   \n",
       "8            2      197             70             45      543  30.5   \n",
       "\n",
       "   DiabetesPedigreeFunction  Age Outcome  \n",
       "0                     0.627   50    Diab  \n",
       "2                     0.672   32    Diab  \n",
       "4                     2.288   33    Diab  \n",
       "6                     0.248   26    Diab  \n",
       "8                     0.158   53    Diab  "
      ]
     },
     "execution_count": 16,
     "metadata": {},
     "output_type": "execute_result"
    }
   ],
   "source": [
    "df_diabetic = df[df['Outcome']=='Diab']\n",
    "df_diabetic.head()"
   ]
  },
  {
   "cell_type": "code",
   "execution_count": 17,
   "id": "4c06522e",
   "metadata": {},
   "outputs": [
    {
     "name": "stdout",
     "output_type": "stream",
     "text": [
      "\n",
      "95% Confidence Interval for Mean Pregnancy Month of Patients with diabetes: (4.417756079185482, 5.313587204396608)\n"
     ]
    }
   ],
   "source": [
    "#Let us now calculate using statsmodel\n",
    "print(\"\\n95% Confidence Interval for Mean Pregnancy Month of Patients with diabetes:\",\n",
    "      sm.stats.DescrStatsW(df_diabetic['Pregnancies']).zconfint_mean())"
   ]
  },
  {
   "cell_type": "code",
   "execution_count": 36,
   "id": "1a02000d",
   "metadata": {},
   "outputs": [
    {
     "data": {
      "image/png": "[encoded data removed]",
      "text/plain": [
       "<Figure size 600x360 with 1 Axes>"
      ]
     },
     "metadata": {
      "needs_background": "light"
     },
     "output_type": "display_data"
    }
   ],
   "source": [
    "#let us make some figure to interpret the result\n",
    "plt.figure(dpi=120,figsize=(5,3))\n",
    "sns.distplot(df_diabetic['Pregnancies'],color='green')\n",
    "plt.axvline(x=4.417756079185482,color = 'black',ls=':')\n",
    "plt.axvline(x=5.313587204396608,color = 'black',ls=':')\n",
    "plt.axvline(x=sm.stats.DescrStatsW(df_diabetic['Pregnancies']).mean, color='red',ls='--')\n",
    "plt.xticks([4.417756079185482,5.313587204396608],['lcb','ucb'],rotation=90)\n",
    "plt.xlabel('Pregnancy Class for Diabetic Patients',fontdict={'fontsize':8})\n",
    "plt.ylabel('Count/Distribution',fontdict={'fontsize':8})\n",
    "plt.title('Pregnancies Distribution for Diabetic Patients',fontdict={'fontsize':8}) \n",
    "plt.show()"
   ]
  },
  {
   "cell_type": "markdown",
   "id": "53ecc73e",
   "metadata": {},
   "source": [
    "**How should I interpret this Confidence Interval, what information does this convey?**\n",
    "\n",
    "- **Interpretation:** With 95% confidence, the population mean Pregnancies for all Patients with Diabetes is estimated to be between 4.417 months and 5.314 months."
   ]
  },
  {
   "cell_type": "code",
   "execution_count": null,
   "id": "8a1c3bfc",
   "metadata": {},
   "outputs": [],
   "source": []
  }
 ],
 "metadata": {
  "kernelspec": {
   "display_name": "Python 3 (ipykernel)",
   "language": "python",
   "name": "python3"
  },
  "language_info": {
   "codemirror_mode": {
    "name": "ipython",
    "version": 3
   },
   "file_extension": ".py",
   "mimetype": "text/x-python",
   "name": "python",
   "nbconvert_exporter": "python",
   "pygments_lexer": "ipython3",
   "version": "3.8.8"
  },
  "toc": {
   "base_numbering": 1,
   "nav_menu": {},
   "number_sections": false,
   "sideBar": true,
   "skip_h1_title": false,
   "title_cell": "Table of Contents",
   "title_sidebar": "Contents",
   "toc_cell": false,
   "toc_position": {},
   "toc_section_display": true,
   "toc_window_display": false
  }
 },
 "nbformat": 4,
 "nbformat_minor": 5
}
